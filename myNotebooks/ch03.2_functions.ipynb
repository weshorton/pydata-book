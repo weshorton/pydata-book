{
 "cells": [
  {
   "cell_type": "markdown",
   "metadata": {},
   "source": [
    "# 3.2 Functions\n",
    "\n",
    "1. [General Info](#general)\n",
    "2. [Namespaces, Scope, Local Functions](#namespace)\n",
    "3. [Returning Multiple Values](#returnMulti)\n",
    "4. [Functions Are Objects](#funcObj)\n",
    "5. [Anonymous (lambda) Functions](#lambda)\n",
    "6. [Generators](#generator)\n",
    "7. [Errors and Exception Handling](#errors)\n",
    "\n",
    "<a name=\"general\"></a>\n",
    "# General\n",
    "\n",
    "Functions are declared with `def`  \n",
    "\n",
    "The `return` keyword is optional, but its presence causes immediate return of the following expression.  \n",
    "\n",
    "If `return` is not included, then `None` is returned.\n",
    "\n",
    "So pretty similar to R here. If you want the function to return something, you have to have it return. If you just want it to print something, you don't need return.  \n",
    "\n",
    "You can use positional and/or keyword arguments. If a function is defined with positional arguments, they're required. Keyword arguments are optional.  \n",
    "\n",
    "Keyword arguments have to follow positional arguments.  \n",
    "\n",
    "<a name=\"namespace\"></a>\n",
    "# Namespaces, Scope, and Local Functions\n",
    "\n",
    "Follows essentially the same logic as R - a function has access to its own variables and global variables. Function within a function has its own, parent's and global.  \n",
    "\n",
    "Any variable created within the function that isn't explicitly called to be `global` or `nonlocal` will get destroyed when function completes.\n",
    "\n",
    "Generally don't want to use global though."
   ]
  },
  {
   "cell_type": "code",
   "execution_count": 21,
   "metadata": {},
   "outputs": [
    {
     "name": "stdout",
     "output_type": "stream",
     "text": [
      "None\n",
      "[]\n"
     ]
    }
   ],
   "source": [
    "a = None\n",
    "def bindAVariable():\n",
    "    global a\n",
    "    a = []\n",
    "\n",
    "print(a)\n",
    "bindAVariable()\n",
    "print(a)"
   ]
  },
  {
   "cell_type": "markdown",
   "metadata": {},
   "source": [
    "<a name=\"returnMulti\"></a>\n",
    "# Returning Multiple Values\n",
    "\n",
    "We're able to use the \"unpacking tuples\" (see 3.1 - Tuples) to return multiple variables out of a function.\n",
    "\n",
    "We can also return things as a dictionary (This is essentially what I do in R when I return lists of outputs)"
   ]
  },
  {
   "cell_type": "code",
   "execution_count": 22,
   "metadata": {},
   "outputs": [
    {
     "name": "stdout",
     "output_type": "stream",
     "text": [
      "5\n",
      "6\n",
      "7\n"
     ]
    },
    {
     "data": {
      "text/plain": [
       "(5, 6, 7)"
      ]
     },
     "execution_count": 22,
     "metadata": {},
     "output_type": "execute_result"
    }
   ],
   "source": [
    "def returnTuple():\n",
    "    a = 5\n",
    "    b = 6\n",
    "    c = 7\n",
    "    return a, b, c\n",
    "\n",
    "### Unpack the tuple\n",
    "a, b, c = returnTuple()\n",
    "\n",
    "print(a)\n",
    "print(b)\n",
    "print(c)\n",
    "\n",
    "### Don't unpack\n",
    "myTuple = returnTuple()\n",
    "myTuple"
   ]
  },
  {
   "cell_type": "code",
   "execution_count": 23,
   "metadata": {},
   "outputs": [
    {
     "data": {
      "text/plain": [
       "{'a': 5, 'b': 6, 'c': 7}"
      ]
     },
     "execution_count": 23,
     "metadata": {},
     "output_type": "execute_result"
    }
   ],
   "source": [
    "def returnDict():\n",
    "    a = 5\n",
    "    b = 6\n",
    "    c = 7\n",
    "    return {\"a\" : a, \"b\" : b, \"c\" : c}\n",
    "\n",
    "returnDict()"
   ]
  },
  {
   "cell_type": "markdown",
   "metadata": {},
   "source": [
    "<a name=\"funcObj\"></a>\n",
    "# Functions Are Objects\n",
    "\n",
    "I think this is the same as in R. The moral of the story here is to make your functions as granular as possible.  \n",
    "\n",
    "Consider the example below. We have a list of strings that we need to clean up.  \n",
    "\n",
    "The first method is just a function that iterates over the list and performs subsequent cleaning operations.  \n",
    "\n",
    "The second method defines a unique function that cleans based on the regex and then combines that with some built-ins into a list of functions. This list of functions is provided as an argument to our main cleaning function."
   ]
  },
  {
   "cell_type": "code",
   "execution_count": 24,
   "metadata": {},
   "outputs": [
    {
     "name": "stdout",
     "output_type": "stream",
     "text": [
      "['Alabama', 'Georgia', 'Georgia', 'Georgia', 'Florida', 'South   Carolina', 'West Virginia']\n",
      "['Alabama', 'Georgia', 'Georgia', 'Georgia', 'Florida', 'South   Carolina', 'West Virginia']\n"
     ]
    }
   ],
   "source": [
    "import re\n",
    "\n",
    "myStates_l = [\"   Alabama \", \"Georgia!\", \"Georgia\", \"georgia\", \"FlOrIda\", \"south   carolina##\", \"West virginia?\"]\n",
    "\n",
    "### Define function to clean these strings\n",
    "def cleanStrings1(strings):\n",
    "    result = []\n",
    "    for value in strings:\n",
    "        value = value.strip()                  # strip whitespace\n",
    "        value = re.sub(\"[!#?]\", \"\", value)     # remove punctuation\n",
    "        value = value.title()                  # built in that: \"Converts the first character of each word to upper case\"\n",
    "        result.append(value)\n",
    "    return result\n",
    "\n",
    "cleanStates1_l = cleanStrings1(myStates_l)\n",
    "print(cleanStates1_l)\n",
    "\n",
    "### Define punctuation removal as a function\n",
    "def removePunctuation(value):\n",
    "    return re.sub(\"[!#?]\", \"\", value)\n",
    "\n",
    "### List of cleaning functions\n",
    "cleanOperations = [str.strip, removePunctuation, str.title]\n",
    "\n",
    "### Define new function to clean strings\n",
    "def cleanStrings2(strings, ops):\n",
    "    result = []\n",
    "    for value in strings:\n",
    "        for func in ops:               # Loop over list of fxns and apply them instead of doing each separately\n",
    "            value = func(value)\n",
    "        result.append(value)\n",
    "    return result\n",
    "\n",
    "cleanStates2_l = cleanStrings2(myStates_l, cleanOperations)\n",
    "print(cleanStates2_l)"
   ]
  },
  {
   "cell_type": "markdown",
   "metadata": {},
   "source": [
    "<a name=\"lambda\"></a>\n",
    "# Anonymous (Lambda) Functions\n",
    "\n",
    "These are functions that consist of a single statement and their result is the return value.  \n",
    "\n",
    "They're declared using the `lambda` keyword.  \n",
    "\n",
    "Below, `short_function` and `equiv_anon` do the same thing.\n",
    "\n",
    "```python\n",
    "def short_function(x):\n",
    "    return x * 2\n",
    "\n",
    "equiv_anon = lambda x: x * 2\n",
    "```\n",
    "\n",
    "These are also in R and I didn't use them a ton there...I think I prefer having things as obvious as possible.\n",
    "\n",
    "Main idea here is that you can write a function in-line (say as an argument to a different function) without having to fully declare it."
   ]
  },
  {
   "cell_type": "code",
   "execution_count": 25,
   "metadata": {},
   "outputs": [
    {
     "data": {
      "text/plain": [
       "[8, 0, 2, 10, 12]"
      ]
     },
     "execution_count": 25,
     "metadata": {},
     "output_type": "execute_result"
    }
   ],
   "source": [
    "### Define a function that takes another function as an argument\n",
    "### Here we just apply f() for every element in some_list\n",
    "def apply_to_list(some_list, f):\n",
    "    return [f(x) for x in some_list]\n",
    "\n",
    "ints = [4, 0, 1, 5, 6]\n",
    "\n",
    "### If we want to apply a function to the list `inits`, we can declare one using `def`, or we can just use a lambda fxn:\n",
    "apply_to_list(some_list = ints, \n",
    "              f = lambda x: x * 2)"
   ]
  },
  {
   "cell_type": "markdown",
   "metadata": {},
   "source": [
    "The below example is a little more complicated.  \n",
    "\n",
    "We want to sort these strings by the number of unique (i.e. different) characters in each one.\n",
    "\n",
    "The `.sort` method has an argument \"key\" where you can tell it how you want to sort by. "
   ]
  },
  {
   "cell_type": "code",
   "execution_count": 26,
   "metadata": {},
   "outputs": [
    {
     "name": "stdout",
     "output_type": "stream",
     "text": [
      "['aaaa', 'foo', 'abab', 'bar', 'card']\n"
     ]
    }
   ],
   "source": [
    "strings = [\"foo\", \"card\", \"bar\", \"aaaa\", \"abab\"]\n",
    "\n",
    "strings.sort(key = lambda x: len(set(x)))\n",
    "print(strings)"
   ]
  },
  {
   "cell_type": "markdown",
   "metadata": {},
   "source": [
    "<a name=\"generator\"></a>\n",
    "# Generators\n",
    "\n",
    "Many objects in python support iteration by means of the *iterator protocol*.  \n",
    "\n",
    "**An iterator is any object that will yield objects to the Python interpreter when used in a context like a for loop.** Most methods that accept list/list-like object will also accept an iterator.  \n",
    "\n",
    "Generators are convenient ways to construct new iterable objects.  \n",
    "\n",
    "**Generators can return a sequence of multiple values by pausing and resuming execution each time the generator is used** huh?\n",
    "\n",
    "When writing a function, use `yield` instead of `return` to make a generator"
   ]
  },
  {
   "cell_type": "code",
   "execution_count": 27,
   "metadata": {},
   "outputs": [
    {
     "name": "stdout",
     "output_type": "stream",
     "text": [
      "<generator object squares at 0x109e34970>\n",
      "Generating squares from 1 to 100\n",
      "1 4 9 16 25 36 49 64 81 100 "
     ]
    }
   ],
   "source": [
    "### Define a generator function\n",
    "def squares(n=10):\n",
    "    print(f\"Generating squares from 1 to {n ** 2}\")\n",
    "    for i in range(1, n + 1):\n",
    "        yield i ** 2\n",
    "        \n",
    "### Execute the generator\n",
    "myGen = squares()\n",
    "print(myGen)\n",
    "\n",
    "### Access (request) elements of the generator\n",
    "for x in myGen:\n",
    "    print(x, end=\" \")"
   ]
  },
  {
   "cell_type": "markdown",
   "metadata": {},
   "source": [
    "Not exactly sure when to use this, but keep it in mind for now.  \n",
    "\n",
    "## Generator Expressions\n",
    "\n",
    "This is an analogue to list comprehension, but for generators - same format and everything, just uses () instead of []"
   ]
  },
  {
   "cell_type": "code",
   "execution_count": 28,
   "metadata": {},
   "outputs": [
    {
     "name": "stdout",
     "output_type": "stream",
     "text": [
      "<generator object _make_gen at 0x109e34a50>\n",
      "<generator object <genexpr> at 0x109e34ac0>\n"
     ]
    }
   ],
   "source": [
    "### Verbose version\n",
    "def _make_gen():\n",
    "    for x in range(100):\n",
    "        yield x ** 2\n",
    "\n",
    "myVerboseGen = _make_gen()\n",
    "\n",
    "### Generator expression version\n",
    "myExprGen = (x ** 2 for x in range(100))\n",
    "\n",
    "print(myVerboseGen)\n",
    "print(myExprGen)"
   ]
  },
  {
   "cell_type": "markdown",
   "metadata": {},
   "source": [
    "One use of generator expressions is as function arguments. Saves time/space because you don't have to define it separately and then put it in the function.  \n",
    "\n",
    "The main benefit here relative to list comprehension is that generators can be faster due to their slightly different use of memory."
   ]
  },
  {
   "cell_type": "code",
   "execution_count": 29,
   "metadata": {},
   "outputs": [
    {
     "name": "stdout",
     "output_type": "stream",
     "text": [
      "333333328333333350000000\n"
     ]
    }
   ],
   "source": [
    "### List comprehension\n",
    "print(sum([x ** 2 for x in range(100000000)]))"
   ]
  },
  {
   "cell_type": "code",
   "execution_count": 30,
   "metadata": {},
   "outputs": [
    {
     "name": "stdout",
     "output_type": "stream",
     "text": [
      "333333328333333350000000\n"
     ]
    }
   ],
   "source": [
    "### Generator expression\n",
    "print(sum((x ** 2 for x in range(100000000))))"
   ]
  },
  {
   "cell_type": "markdown",
   "metadata": {},
   "source": [
    "Although the above example doesn't seem to show that...\n",
    "\n",
    "## itertools module\n",
    "\n",
    "`itertools` is a module in the standard library. It has a collection of generators for many common data algorithms.  \n",
    "\n",
    "Their uses may not be immediately apparent, but probably good to keep these in mind as I'm sure they'll end up being useful.\n",
    "\n",
    "[Official docs](https://docs.python.org/3/library/itertools.html)\n",
    "\n",
    "<img src=\"./myImages/table3.2_itertools.png\" width=\"500\"/>\n",
    "\n",
    "Below is an example of `groupby`, which \"takes any sequence and a function and groups consecutive elements in the sequence by the return value of the function\"\n",
    "\n",
    "So for `names`, it groups Alan and Adam because they're consecutive and both start with A. Same with Wes and Will. Albert isn't in the A group because it's not consecutive.\n"
   ]
  },
  {
   "cell_type": "code",
   "execution_count": 31,
   "metadata": {},
   "outputs": [
    {
     "name": "stdout",
     "output_type": "stream",
     "text": [
      "A ['Alan', 'Adam']\n",
      "W ['Wes', 'Will']\n",
      "A ['Albert']\n",
      "S ['Steven']\n",
      "\n",
      "\n",
      "A ['Alan', 'Adam']\n",
      "W ['Wes', 'Will']\n",
      "A ['Albert']\n",
      "M ['Matt']\n",
      "S ['Steven', 'Sven']\n",
      "\n",
      "\n",
      "n ['Alan']\n",
      "m ['Adam']\n",
      "s ['Wes']\n",
      "l ['Will']\n",
      "t ['Albert', 'Matt']\n",
      "n ['Steven', 'Sven']\n"
     ]
    }
   ],
   "source": [
    "import itertools\n",
    "\n",
    "# Function to return first letter of a string:\n",
    "def firstLetter(x):\n",
    "    return x[0]\n",
    "\n",
    "# Function to return last letter of a string:\n",
    "def lastLetter(x):\n",
    "    return x[len(x)-1]\n",
    "\n",
    "# List of names\n",
    "names = [\"Alan\", \"Adam\", \"Wes\", \"Will\", \"Albert\", \"Steven\"]\n",
    "names2 = [\"Alan\", \"Adam\", \"Wes\", \"Will\", \"Albert\", \"Matt\", \"Steven\", \"Sven\"]\n",
    "\n",
    "for letter, names in itertools.groupby(names, firstLetter):\n",
    "    print(letter, list(names)) # names is a generator\n",
    "print('\\n')\n",
    "for letter, names in itertools.groupby(names2, firstLetter):\n",
    "    print(letter, list(names)) # names is a generator\n",
    "print('\\n')\n",
    "for letter, names in itertools.groupby(names2, lastLetter):\n",
    "    print(letter, list(names)) # names is a generator\n"
   ]
  },
  {
   "cell_type": "markdown",
   "metadata": {},
   "source": [
    "<a name=\"errors\"></a>\n",
    "# Errors and Exception Handling\n",
    "\n",
    "Use `try`/`except` for the most part.\n",
    "\n",
    "Example - float produces a `ValueError` if provided value can't be converted to a float:"
   ]
  },
  {
   "cell_type": "code",
   "execution_count": 32,
   "metadata": {},
   "outputs": [
    {
     "ename": "ValueError",
     "evalue": "could not convert string to float: 'someString'",
     "output_type": "error",
     "traceback": [
      "\u001b[0;31m---------------------------------------------------------------------------\u001b[0m",
      "\u001b[0;31mValueError\u001b[0m                                Traceback (most recent call last)",
      "Cell \u001b[0;32mIn[32], line 2\u001b[0m\n\u001b[1;32m      1\u001b[0m \u001b[38;5;28mfloat\u001b[39m(\u001b[38;5;124m\"\u001b[39m\u001b[38;5;124m1.2345\u001b[39m\u001b[38;5;124m\"\u001b[39m)\n\u001b[0;32m----> 2\u001b[0m \u001b[38;5;28;43mfloat\u001b[39;49m\u001b[43m(\u001b[49m\u001b[38;5;124;43m\"\u001b[39;49m\u001b[38;5;124;43msomeString\u001b[39;49m\u001b[38;5;124;43m\"\u001b[39;49m\u001b[43m)\u001b[49m\n",
      "\u001b[0;31mValueError\u001b[0m: could not convert string to float: 'someString'"
     ]
    }
   ],
   "source": [
    "float(\"1.2345\")\n",
    "float(\"someString\")"
   ]
  },
  {
   "cell_type": "markdown",
   "metadata": {},
   "source": [
    "Make a new version of the `float()` function that returns in the input if it can't be converted to a float:"
   ]
  },
  {
   "cell_type": "code",
   "execution_count": null,
   "metadata": {},
   "outputs": [
    {
     "name": "stderr",
     "output_type": "stream",
     "text": [
      "/var/folders/yg/vgv20k0j7gvg8wyndq5wp9lsszdzc8/T/ipykernel_60108/545034831.py:7: UserWarning: Unable to convert to float. Returning x.\n",
      "\n",
      "  warnings.warn(\"Unable to convert to float. Returning x.\\n\")\n"
     ]
    },
    {
     "data": {
      "text/plain": [
       "'someString'"
      ]
     },
     "execution_count": 13,
     "metadata": {},
     "output_type": "execute_result"
    }
   ],
   "source": [
    "import warnings\n",
    "\n",
    "def tryFloat(x):\n",
    "    try:\n",
    "        return float(x)\n",
    "    except:\n",
    "        warnings.warn(\"Unable to convert to float. Returning x.\\n\")\n",
    "        return x\n",
    "\n",
    "tryFloat(\"1.2345\")\n",
    "tryFloat(\"someString\")"
   ]
  },
  {
   "cell_type": "markdown",
   "metadata": {},
   "source": [
    "`ValueError` is not the only exception that can be returned by float. Providing a tuple will give a `TypeError`:"
   ]
  },
  {
   "cell_type": "code",
   "execution_count": null,
   "metadata": {},
   "outputs": [
    {
     "ename": "TypeError",
     "evalue": "float() argument must be a string or a real number, not 'tuple'",
     "output_type": "error",
     "traceback": [
      "\u001b[0;31m---------------------------------------------------------------------------\u001b[0m",
      "\u001b[0;31mTypeError\u001b[0m                                 Traceback (most recent call last)",
      "Cell \u001b[0;32mIn[15], line 1\u001b[0m\n\u001b[0;32m----> 1\u001b[0m \u001b[38;5;28;43mfloat\u001b[39;49m\u001b[43m(\u001b[49m\u001b[43m(\u001b[49m\u001b[38;5;241;43m1\u001b[39;49m\u001b[43m,\u001b[49m\u001b[38;5;241;43m2\u001b[39;49m\u001b[43m)\u001b[49m\u001b[43m)\u001b[49m\n",
      "\u001b[0;31mTypeError\u001b[0m: float() argument must be a string or a real number, not 'tuple'"
     ]
    }
   ],
   "source": [
    "float((1,2))"
   ]
  },
  {
   "cell_type": "markdown",
   "metadata": {},
   "source": [
    "Our original function will return the tuple:"
   ]
  },
  {
   "cell_type": "code",
   "execution_count": null,
   "metadata": {},
   "outputs": [
    {
     "name": "stderr",
     "output_type": "stream",
     "text": [
      "/var/folders/yg/vgv20k0j7gvg8wyndq5wp9lsszdzc8/T/ipykernel_60108/545034831.py:7: UserWarning: Unable to convert to float. Returning x.\n",
      "\n",
      "  warnings.warn(\"Unable to convert to float. Returning x.\\n\")\n"
     ]
    },
    {
     "data": {
      "text/plain": [
       "(1, 2)"
      ]
     },
     "execution_count": 16,
     "metadata": {},
     "output_type": "execute_result"
    }
   ],
   "source": [
    "tryFloat((1,2))"
   ]
  },
  {
   "cell_type": "markdown",
   "metadata": {},
   "source": [
    "We may want to only return if it's a scalar and still provide an error if it's the wrong type entirely. Add that to the except line:"
   ]
  },
  {
   "cell_type": "code",
   "execution_count": null,
   "metadata": {},
   "outputs": [
    {
     "ename": "TypeError",
     "evalue": "float() argument must be a string or a real number, not 'tuple'",
     "output_type": "error",
     "traceback": [
      "\u001b[0;31m---------------------------------------------------------------------------\u001b[0m",
      "\u001b[0;31mTypeError\u001b[0m                                 Traceback (most recent call last)",
      "Cell \u001b[0;32mIn[19], line 8\u001b[0m\n\u001b[1;32m      5\u001b[0m         warnings\u001b[38;5;241m.\u001b[39mwarn(\u001b[38;5;124m\"\u001b[39m\u001b[38;5;124mUnable to convert to float. Returning x.\u001b[39m\u001b[38;5;130;01m\\n\u001b[39;00m\u001b[38;5;124m\"\u001b[39m)\n\u001b[1;32m      6\u001b[0m         \u001b[38;5;28;01mreturn\u001b[39;00m(x)\n\u001b[0;32m----> 8\u001b[0m \u001b[43mnewTryFloat\u001b[49m\u001b[43m(\u001b[49m\u001b[43m(\u001b[49m\u001b[38;5;241;43m1\u001b[39;49m\u001b[43m,\u001b[49m\u001b[38;5;241;43m2\u001b[39;49m\u001b[43m)\u001b[49m\u001b[43m)\u001b[49m\n\u001b[1;32m      9\u001b[0m newTryFloat(\u001b[38;5;124m\"\u001b[39m\u001b[38;5;124msomeString\u001b[39m\u001b[38;5;124m\"\u001b[39m)\n",
      "Cell \u001b[0;32mIn[19], line 3\u001b[0m, in \u001b[0;36mnewTryFloat\u001b[0;34m(x)\u001b[0m\n\u001b[1;32m      1\u001b[0m \u001b[38;5;28;01mdef\u001b[39;00m \u001b[38;5;21mnewTryFloat\u001b[39m(x):\n\u001b[1;32m      2\u001b[0m     \u001b[38;5;28;01mtry\u001b[39;00m:\n\u001b[0;32m----> 3\u001b[0m         \u001b[38;5;28;01mreturn\u001b[39;00m \u001b[38;5;28;43mfloat\u001b[39;49m\u001b[43m(\u001b[49m\u001b[43mx\u001b[49m\u001b[43m)\u001b[49m\n\u001b[1;32m      4\u001b[0m     \u001b[38;5;28;01mexcept\u001b[39;00m \u001b[38;5;167;01mValueError\u001b[39;00m:\n\u001b[1;32m      5\u001b[0m         warnings\u001b[38;5;241m.\u001b[39mwarn(\u001b[38;5;124m\"\u001b[39m\u001b[38;5;124mUnable to convert to float. Returning x.\u001b[39m\u001b[38;5;130;01m\\n\u001b[39;00m\u001b[38;5;124m\"\u001b[39m)\n",
      "\u001b[0;31mTypeError\u001b[0m: float() argument must be a string or a real number, not 'tuple'"
     ]
    }
   ],
   "source": [
    "def newTryFloat(x):\n",
    "    try:\n",
    "        return float(x)\n",
    "    except ValueError:\n",
    "        warnings.warn(\"Unable to convert to float. Returning x.\\n\")\n",
    "        return(x)\n",
    "    \n",
    "newTryFloat((1,2))"
   ]
  },
  {
   "cell_type": "code",
   "execution_count": null,
   "metadata": {},
   "outputs": [
    {
     "name": "stderr",
     "output_type": "stream",
     "text": [
      "/var/folders/yg/vgv20k0j7gvg8wyndq5wp9lsszdzc8/T/ipykernel_60108/3367678761.py:5: UserWarning: Unable to convert to float. Returning x.\n",
      "\n",
      "  warnings.warn(\"Unable to convert to float. Returning x.\\n\")\n"
     ]
    },
    {
     "data": {
      "text/plain": [
       "'someString'"
      ]
     },
     "execution_count": 20,
     "metadata": {},
     "output_type": "execute_result"
    }
   ],
   "source": [
    "newTryFloat(\"someString\")"
   ]
  },
  {
   "cell_type": "markdown",
   "metadata": {},
   "source": [
    "Use `finally` to execute code at the end, regardless of whether or not the `try` code succeeds."
   ]
  }
 ],
 "metadata": {
  "kernelspec": {
   "display_name": "pydata-book",
   "language": "python",
   "name": "python3"
  },
  "language_info": {
   "codemirror_mode": {
    "name": "ipython",
    "version": 3
   },
   "file_extension": ".py",
   "mimetype": "text/x-python",
   "name": "python",
   "nbconvert_exporter": "python",
   "pygments_lexer": "ipython3",
   "version": "3.10.14"
  }
 },
 "nbformat": 4,
 "nbformat_minor": 2
}
