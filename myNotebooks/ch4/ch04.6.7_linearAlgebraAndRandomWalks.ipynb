{
 "cells": [
  {
   "cell_type": "markdown",
   "metadata": {},
   "source": [
    "# 4.6 Linear Algebra\n",
    "\n",
    "Again, will need to review linear algebra in general to make full use of this.\n",
    "\n",
    "Matrix multiplication is different from regular multiplication - so using `*` to multiply arrays gives an element-wise product, while `dot` or `@` give the matrix multiplication result.\n",
    "\n",
    "Linear algebra operations:\n",
    "\n",
    "1. Matrix multiplication\n",
    "1. Decompositions\n",
    "1. Determinants\n",
    "1. Square matrix math\n",
    "\n",
    "\n",
    "`dot` is a method of arrays and also a numpy function.\n",
    "\n",
    "Import other functions, like inverse (`inv`) and determinant (`qr`) from `numpy.linalg`"
   ]
  },
  {
   "cell_type": "code",
   "execution_count": 1,
   "metadata": {},
   "outputs": [
    {
     "name": "stdout",
     "output_type": "stream",
     "text": [
      "[[1. 2. 3.]\n",
      " [4. 5. 6.]]\n",
      "\n",
      "\n",
      "[[ 6. 23.]\n",
      " [-1.  7.]\n",
      " [ 8.  9.]]\n"
     ]
    }
   ],
   "source": [
    "import numpy as np\n",
    "\n",
    "# Make two 2-d arrays\n",
    "x = np.array([[1., 2., 3.], [4., 5., 6.]])\n",
    "y = np.array([[6., 23.], [-1, 7], [8, 9]])\n",
    "print(x)\n",
    "print(\"\\n\")\n",
    "print(y)"
   ]
  },
  {
   "cell_type": "code",
   "execution_count": 2,
   "metadata": {},
   "outputs": [
    {
     "data": {
      "text/plain": [
       "array([[ 28.,  64.],\n",
       "       [ 67., 181.]])"
      ]
     },
     "execution_count": 2,
     "metadata": {},
     "output_type": "execute_result"
    }
   ],
   "source": [
    "# Dot product - using the array method\n",
    "x.dot(y)"
   ]
  },
  {
   "cell_type": "code",
   "execution_count": 3,
   "metadata": {},
   "outputs": [
    {
     "data": {
      "text/plain": [
       "array([[ 28.,  64.],\n",
       "       [ 67., 181.]])"
      ]
     },
     "execution_count": 3,
     "metadata": {},
     "output_type": "execute_result"
    }
   ],
   "source": [
    "# Dot product - using numpy.dot\n",
    "np.dot(x, y)"
   ]
  },
  {
   "cell_type": "code",
   "execution_count": 6,
   "metadata": {},
   "outputs": [
    {
     "data": {
      "text/plain": [
       "array([ 6., 15.])"
      ]
     },
     "execution_count": 6,
     "metadata": {},
     "output_type": "execute_result"
    }
   ],
   "source": [
    "# Multiplying 2-d array by a 1-d array will return a 1-d array\n",
    "ones = np.ones(3)\n",
    "ones\n",
    "\n",
    "x @ ones"
   ]
  },
  {
   "cell_type": "code",
   "execution_count": 7,
   "metadata": {},
   "outputs": [
    {
     "data": {
      "text/plain": [
       "array([ 6., 15.])"
      ]
     },
     "execution_count": 7,
     "metadata": {},
     "output_type": "execute_result"
    }
   ],
   "source": [
    "x.dot(ones)"
   ]
  },
  {
   "cell_type": "code",
   "execution_count": 9,
   "metadata": {},
   "outputs": [
    {
     "data": {
      "text/plain": [
       "array([[-1.42382504,  1.26372846, -0.87066174, -0.25917323, -0.07534331],\n",
       "       [-0.74088465, -1.3677927 ,  0.6488928 ,  0.36105811, -1.95286306],\n",
       "       [ 2.34740965,  0.96849691, -0.75938718,  0.90219827, -0.46695317],\n",
       "       [-0.06068952,  0.78884434, -1.25666813,  0.57585751,  1.39897899],\n",
       "       [ 1.32229806, -0.29969852,  0.90291934, -1.62158273, -0.15818926]])"
      ]
     },
     "execution_count": 9,
     "metadata": {},
     "output_type": "execute_result"
    }
   ],
   "source": [
    "from numpy.linalg import inv, qr\n",
    "rng = np.random.default_rng(seed=12345)\n",
    "\n",
    "# Matrix\n",
    "X = rng.standard_normal((5, 5))\n",
    "X"
   ]
  },
  {
   "cell_type": "code",
   "execution_count": 10,
   "metadata": {},
   "outputs": [
    {
     "data": {
      "text/plain": [
       "array([[ 9.83867527,  1.04334204,  0.24651754,  0.04017965,  0.16391486],\n",
       "       [ 1.04334204,  5.11794735, -3.98521413,  0.99264687,  3.27464142],\n",
       "       [ 0.24651754, -3.98521413,  4.15026075, -2.41299778, -2.74788646],\n",
       "       [ 0.04017965,  0.99264687, -2.41299778,  3.97263789, -0.04472489],\n",
       "       [ 0.16391486,  3.27464142, -2.74788646, -0.04472489,  6.01956209]])"
      ]
     },
     "execution_count": 10,
     "metadata": {},
     "output_type": "execute_result"
    }
   ],
   "source": [
    "mat1 = X.T @ X\n",
    "mat1"
   ]
  },
  {
   "cell_type": "code",
   "execution_count": 12,
   "metadata": {},
   "outputs": [
    {
     "data": {
      "text/plain": [
       "array([[ 9.83867527,  1.04334204,  0.24651754,  0.04017965,  0.16391486],\n",
       "       [ 1.04334204,  5.11794735, -3.98521413,  0.99264687,  3.27464142],\n",
       "       [ 0.24651754, -3.98521413,  4.15026075, -2.41299778, -2.74788646],\n",
       "       [ 0.04017965,  0.99264687, -2.41299778,  3.97263789, -0.04472489],\n",
       "       [ 0.16391486,  3.27464142, -2.74788646, -0.04472489,  6.01956209]])"
      ]
     },
     "execution_count": 12,
     "metadata": {},
     "output_type": "execute_result"
    }
   ],
   "source": [
    "mat2 = X.T.dot(X)\n",
    "mat2"
   ]
  },
  {
   "cell_type": "code",
   "execution_count": 13,
   "metadata": {},
   "outputs": [
    {
     "data": {
      "text/plain": [
       "array([[ 0.15548538, -0.36723081, -0.52638547, -0.2300642 , -0.04646089],\n",
       "       [-0.36723081,  2.54917814,  3.47827334,  1.48196722,  0.22206454],\n",
       "       [-0.52638547,  3.47827334,  5.46389554,  2.46214396,  0.63467543],\n",
       "       [-0.2300642 ,  1.48196722,  2.46214396,  1.38302896,  0.33430132],\n",
       "       [-0.04646089,  0.22206454,  0.63467543,  0.33430132,  0.33879566]])"
      ]
     },
     "execution_count": 13,
     "metadata": {},
     "output_type": "execute_result"
    }
   ],
   "source": [
    "inv(mat1)"
   ]
  },
  {
   "cell_type": "code",
   "execution_count": 14,
   "metadata": {},
   "outputs": [
    {
     "data": {
      "text/plain": [
       "array([[ 1.00000000e+00,  2.21850121e-16, -1.69485486e-16,\n",
       "         1.69587246e-16, -1.96317601e-17],\n",
       "       [ 1.60901152e-16,  1.00000000e+00,  9.88009619e-16,\n",
       "        -6.00171811e-16, -4.67042211e-16],\n",
       "       [-1.05685721e-16, -4.58539906e-16,  1.00000000e+00,\n",
       "        -5.98139876e-17,  3.00070289e-16],\n",
       "       [-2.38572202e-16,  9.90852676e-16,  2.03861339e-15,\n",
       "         1.00000000e+00,  3.28769669e-16],\n",
       "       [-1.60460765e-20, -4.35123959e-16,  8.16184502e-16,\n",
       "        -3.70787804e-16,  1.00000000e+00]])"
      ]
     },
     "execution_count": 14,
     "metadata": {},
     "output_type": "execute_result"
    }
   ],
   "source": [
    "mat1 @ inv(mat1)"
   ]
  },
  {
   "cell_type": "markdown",
   "metadata": {},
   "source": [
    "<img src=\"./myImages/table4.8_linalgFunctions.png\" size = 600>\n",
    "\n",
    "# 4.7 Random Walks\n",
    "\n",
    "[Random walks](https://en.wikipedia.org/wiki/Random_walk) are stochastic processes that describe a path that consists of a succession of random steps on some mathematical space.  \n",
    "\n",
    "Basic example is the random walk on the \"integer number line Z\" which starts at 0 and at each step moves either +1 or -1 with equal probability.  \n",
    "\n",
    "Implement a 1000-step random walk of the above example in pure Python with the built-in `random` module:"
   ]
  },
  {
   "cell_type": "code",
   "execution_count": 16,
   "metadata": {},
   "outputs": [
    {
     "data": {
      "text/plain": [
       "[<matplotlib.lines.Line2D at 0x1372a6e00>]"
      ]
     },
     "execution_count": 16,
     "metadata": {},
     "output_type": "execute_result"
    },
    {
     "data": {
      "image/png": "[encoded data removed]",
      "text/plain": [
       "<Figure size 640x480 with 1 Axes>"
      ]
     },
     "metadata": {},
     "output_type": "display_data"
    }
   ],
   "source": [
    "import random\n",
    "import matplotlib.pyplot as plt\n",
    "\n",
    "# Random Walk\n",
    "position = 0                                         # Set starting position\n",
    "nsteps = 1000                                        # Set number of steps to take\n",
    "walk = [position]                                    # Initialize a list starting with the starting position\n",
    "for _ in range(nsteps):                              # For loop for 1000 iterations. (I forget what _ is for)\n",
    "    step = 1 if random.randint(0, 1) else -1         # simple if-else to determine step direction\n",
    "    position += step                                 # Update position based on this step\n",
    "    walk.append(position)                            # Append current position to the record list\n",
    "    \n",
    "# Plot it\n",
    "plt.plot(walk[:100])"
   ]
  },
  {
   "cell_type": "markdown",
   "metadata": {},
   "source": [
    "Notice how `walk` is a cumulative sum of all the steps. Try to do the same with arrays:"
   ]
  },
  {
   "cell_type": "code",
   "execution_count": 26,
   "metadata": {},
   "outputs": [],
   "source": [
    "nsteps = 1000                                        # Set number of steps to take\n",
    "rng = np.random.default_rng(seed=12345)              # fresh random generator\n",
    "draws = rng.integers(0, 2, size=nsteps)              # Create array of length 1000 of either 0 or 1 (use 2 b/c second value is exclusive)\n",
    "steps = np.where(draws == 0, 1, -1)                  # Use where to map conditional \n",
    "walk = steps.cumsum()                                # Calc walk"
   ]
  },
  {
   "cell_type": "code",
   "execution_count": 19,
   "metadata": {},
   "outputs": [
    {
     "data": {
      "text/plain": [
       "-8"
      ]
     },
     "execution_count": 19,
     "metadata": {},
     "output_type": "execute_result"
    }
   ],
   "source": [
    "# Min walk\n",
    "walk.min()"
   ]
  },
  {
   "cell_type": "code",
   "execution_count": 20,
   "metadata": {},
   "outputs": [
    {
     "data": {
      "text/plain": [
       "50"
      ]
     },
     "execution_count": 20,
     "metadata": {},
     "output_type": "execute_result"
    }
   ],
   "source": [
    "# Max walk\n",
    "walk.max()"
   ]
  },
  {
   "cell_type": "markdown",
   "metadata": {},
   "source": [
    "Another statistic is first crossing time  - the first step at which the random walk reaches a particular value\n",
    "\n",
    "For example, how long to get 10 steps away from 0 in either direction?"
   ]
  },
  {
   "cell_type": "code",
   "execution_count": null,
   "metadata": {},
   "outputs": [],
   "source": [
    "# Boolean array of every walk position 10 steps or further from 0\n",
    "np.abs(walk) >= 10"
   ]
  },
  {
   "cell_type": "code",
   "execution_count": 22,
   "metadata": {},
   "outputs": [
    {
     "data": {
      "text/plain": [
       "155"
      ]
     },
     "execution_count": 22,
     "metadata": {},
     "output_type": "execute_result"
    }
   ],
   "source": [
    "# argmax returns the first instance of the maximum value in an array (True is max value in a boolean array)\n",
    "# Again have to wrap in () to use the method\n",
    "(np.abs(walk) >= 10).argmax()"
   ]
  },
  {
   "cell_type": "markdown",
   "metadata": {},
   "source": [
    "## Simulating Many Random Walks at Once\n",
    "\n",
    "How to do the above 5000 times?\n",
    "\n",
    "`numpy.random` functions will generate 2-d arrays of draws if passed a 2-tuple"
   ]
  },
  {
   "cell_type": "code",
   "execution_count": 27,
   "metadata": {},
   "outputs": [
    {
     "name": "stdout",
     "output_type": "stream",
     "text": [
      "(5000, 1000)\n"
     ]
    },
    {
     "data": {
      "text/plain": [
       "array([[  1,   2,   3, ...,  22,  23,  22],\n",
       "       [  1,   0,  -1, ..., -50, -49, -48],\n",
       "       [  1,   2,   3, ...,  50,  49,  48],\n",
       "       ...,\n",
       "       [ -1,  -2,  -1, ..., -10,  -9, -10],\n",
       "       [ -1,  -2,  -3, ...,   8,   9,   8],\n",
       "       [ -1,   0,   1, ...,  -4,  -3,  -2]])"
      ]
     },
     "execution_count": 27,
     "metadata": {},
     "output_type": "execute_result"
    }
   ],
   "source": [
    "nsteps = 1000                                        # Set number of steps to take\n",
    "nwalks = 5000                                        # Set number of walks to simulate\n",
    "draws = rng.integers(0, 2, size=(nwalks, nsteps))    # provide a 2-tuple to size instead of 1 value (will have axis0 (rows) = 5000 and axis1 (columns) = 1000)\n",
    "steps = np.where(draws > 0, 1, -1)                   # Use where to map conditional \n",
    "walks = steps.cumsum(axis = 1)                       # Calculate the cumsum BY ROW, so for each of the 5000 rows, will get the cumulative sum of the 1000 steps\n",
    "print(walks.shape)\n",
    "walks"
   ]
  },
  {
   "cell_type": "code",
   "execution_count": 28,
   "metadata": {},
   "outputs": [
    {
     "data": {
      "text/plain": [
       "114"
      ]
     },
     "execution_count": 28,
     "metadata": {},
     "output_type": "execute_result"
    }
   ],
   "source": [
    "# Now using max and min will get the maximum and minimum values across all 5000 walks:\n",
    "walks.max()"
   ]
  },
  {
   "cell_type": "code",
   "execution_count": 29,
   "metadata": {},
   "outputs": [
    {
     "data": {
      "text/plain": [
       "-120"
      ]
     },
     "execution_count": 29,
     "metadata": {},
     "output_type": "execute_result"
    }
   ],
   "source": [
    "walks.min()"
   ]
  },
  {
   "cell_type": "markdown",
   "metadata": {},
   "source": [
    "Calculate the minimum crossing time to +/- 30.\n",
    "\n",
    "Not all of them will reach 30, so have to do some trickery.\n",
    "\n",
    "First, get indices of each of the 5000 walks that hit 30:"
   ]
  },
  {
   "cell_type": "code",
   "execution_count": 31,
   "metadata": {},
   "outputs": [
    {
     "data": {
      "text/plain": [
       "3395"
      ]
     },
     "execution_count": 31,
     "metadata": {},
     "output_type": "execute_result"
    }
   ],
   "source": [
    "# Oneliner that accomplishes it:\n",
    "hits30 = (np.abs(walks) >= 30).any(axis=1)\n",
    "hits30.sum()"
   ]
  },
  {
   "cell_type": "markdown",
   "metadata": {},
   "source": [
    "Break it down:"
   ]
  },
  {
   "cell_type": "code",
   "execution_count": 32,
   "metadata": {},
   "outputs": [
    {
     "data": {
      "text/plain": [
       "(5000, 1000)"
      ]
     },
     "execution_count": 32,
     "metadata": {},
     "output_type": "execute_result"
    }
   ],
   "source": [
    "# Boolean array of which positions in each walk is greater than abs(30)\n",
    "bool30 = np.abs(walks) >= 30 \n",
    "bool30.shape"
   ]
  },
  {
   "cell_type": "code",
   "execution_count": 34,
   "metadata": {},
   "outputs": [
    {
     "name": "stdout",
     "output_type": "stream",
     "text": [
      "[False  True  True ...  True False  True]\n"
     ]
    },
    {
     "data": {
      "text/plain": [
       "3395"
      ]
     },
     "execution_count": 34,
     "metadata": {},
     "output_type": "execute_result"
    }
   ],
   "source": [
    "# Use any across the rows to grab which of the 5000 have atleast 1 true!\n",
    "# See how it gets reduced to a 1-d array now.\n",
    "hits30 = bool30.any(axis=1)\n",
    "print(hits30)\n",
    "hits30.sum()"
   ]
  },
  {
   "cell_type": "markdown",
   "metadata": {},
   "source": [
    "Now we know that 3,395 of the walks hit 30. We want the crossing times for each of these walks.  \n",
    "\n",
    "So we have to do the same comparison as above, but with the hits only"
   ]
  },
  {
   "cell_type": "code",
   "execution_count": 35,
   "metadata": {},
   "outputs": [
    {
     "data": {
      "text/plain": [
       "array([201, 491, 283, ..., 219, 259, 541])"
      ]
     },
     "execution_count": 35,
     "metadata": {},
     "output_type": "execute_result"
    }
   ],
   "source": [
    "# One-liner\n",
    "crossing_times = (np.abs(walks[hits30]) >= 30).argmax(axis=1)\n",
    "crossing_times"
   ]
  },
  {
   "cell_type": "code",
   "execution_count": 41,
   "metadata": {},
   "outputs": [
    {
     "name": "stdout",
     "output_type": "stream",
     "text": [
      "(3395, 1000)\n"
     ]
    },
    {
     "data": {
      "text/plain": [
       "array([201, 491, 283, ..., 219, 259, 541])"
      ]
     },
     "execution_count": 41,
     "metadata": {},
     "output_type": "execute_result"
    }
   ],
   "source": [
    "### Broken down:\n",
    "\n",
    "# This is same as bool30 creation above, but only returns the results for the 3395 hits.\n",
    "hits30bool = np.abs(walks[hits30]) >= 30\n",
    "print(hits30bool.shape)\n",
    "\n",
    "# Now, instead of using any to find hits, we use argmax to find crossing times\n",
    "crossing_times = hits30bool.argmax(axis = 1)\n",
    "crossing_times"
   ]
  },
  {
   "cell_type": "markdown",
   "metadata": {},
   "source": [
    "Now that we have all of the crossing times, we can get the average:"
   ]
  },
  {
   "cell_type": "code",
   "execution_count": 42,
   "metadata": {},
   "outputs": [
    {
     "data": {
      "text/plain": [
       "500.5699558173785"
      ]
     },
     "execution_count": 42,
     "metadata": {},
     "output_type": "execute_result"
    }
   ],
   "source": [
    "crossing_times.mean()"
   ]
  },
  {
   "cell_type": "markdown",
   "metadata": {},
   "source": [
    "What about if we didn't get the hits first?  \n",
    "Below I get an array of length 5000. All of the non-zero values will be the same as above.  \n",
    "Issue here, though, is that if I calculate the average, it will be smaller b/c it's out of 5000"
   ]
  },
  {
   "cell_type": "code",
   "execution_count": 43,
   "metadata": {},
   "outputs": [
    {
     "data": {
      "text/plain": [
       "array([  0, 201, 491, ..., 259,   0, 541])"
      ]
     },
     "execution_count": 43,
     "metadata": {},
     "output_type": "execute_result"
    }
   ],
   "source": [
    "foo = (np.abs(walks) >= 30).argmax(axis=1)\n",
    "foo"
   ]
  },
  {
   "cell_type": "code",
   "execution_count": 44,
   "metadata": {},
   "outputs": [
    {
     "data": {
      "text/plain": [
       "339.887"
      ]
     },
     "execution_count": 44,
     "metadata": {},
     "output_type": "execute_result"
    }
   ],
   "source": [
    "foo.mean()"
   ]
  },
  {
   "cell_type": "markdown",
   "metadata": {},
   "source": [
    "But we could just subset it to get the right mean:"
   ]
  },
  {
   "cell_type": "code",
   "execution_count": 45,
   "metadata": {},
   "outputs": [
    {
     "data": {
      "text/plain": [
       "500.5699558173785"
      ]
     },
     "execution_count": 45,
     "metadata": {},
     "output_type": "execute_result"
    }
   ],
   "source": [
    "(foo[foo != 0]).mean()"
   ]
  }
 ],
 "metadata": {
  "kernelspec": {
   "display_name": "pydata-book",
   "language": "python",
   "name": "python3"
  },
  "language_info": {
   "codemirror_mode": {
    "name": "ipython",
    "version": 3
   },
   "file_extension": ".py",
   "mimetype": "text/x-python",
   "name": "python",
   "nbconvert_exporter": "python",
   "pygments_lexer": "ipython3",
   "version": "3.10.14"
  }
 },
 "nbformat": 4,
 "nbformat_minor": 2
}
