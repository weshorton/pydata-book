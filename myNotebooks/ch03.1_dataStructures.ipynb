{
 "cells": [
  {
   "cell_type": "markdown",
   "metadata": {},
   "source": [
    "# 3.1 Data Structures and Sequences\n",
    "\n",
    "1. [Tuple](#tuple)\n",
    "2. [Lists](#lists)\n",
    "3. [Dictionary](#dictionary)\n",
    "4. [Sets](#sets)\n",
    "5. [Built-in Sequence Functions](#sequence)\n",
    "6. [List Comprehension](#comprehension)\n",
    "\n",
    "<a name=\"tuple\"></a>\n",
    "## Tuple\n",
    "\n",
    "A tuple is a fixed-length, immutable *sequence* of Python objects.  \n",
    "\n",
    "Once it's assigned, **it cannot be changed**  \n",
    "\n",
    "Standard construction is like a list with parentheses instead of brackets: `myTup = (4, 5, 6)`  \n",
    "\n",
    "In a lot of contexts, you don't even need the parentheses and can just do `myTup = 4, 5, 6`  \n",
    "\n",
    "You can also use the `tuple()` function to either modify existing variable or as an initialization `myTup = tuple([4, 5, 6])`\n",
    "\n",
    "Any sequence or iterator can be converted to a tuple:"
   ]
  },
  {
   "cell_type": "code",
   "execution_count": 184,
   "metadata": {},
   "outputs": [
    {
     "name": "stdout",
     "output_type": "stream",
     "text": [
      "[4, 0, 2]\n",
      "(4, 0, 2)\n",
      "string\n",
      "('s', 't', 'r', 'i', 'n', 'g')\n"
     ]
    }
   ],
   "source": [
    "myList=[4, 0, 2]\n",
    "print(myList)\n",
    "myTup=tuple(myList)\n",
    "print(myTup)\n",
    "myString=\"string\"\n",
    "print(myString)\n",
    "myTup2=tuple(myString)\n",
    "print(myTup2)"
   ]
  },
  {
   "cell_type": "markdown",
   "metadata": {},
   "source": [
    "Like most sequence types, we use brackets `[]` to access the elements. (Remember it's 0-indexed, unlike R's 1-index)"
   ]
  },
  {
   "cell_type": "code",
   "execution_count": 185,
   "metadata": {},
   "outputs": [
    {
     "name": "stdout",
     "output_type": "stream",
     "text": [
      "4\n",
      "i\n"
     ]
    }
   ],
   "source": [
    "print(myTup[0])\n",
    "print(myTup2[3])"
   ]
  },
  {
   "cell_type": "markdown",
   "metadata": {},
   "source": [
    "### Nested Tuples\n",
    "\n",
    "Can create tuples within tuples (I imagine to any depth, here just showing one layer).  \n",
    "\n",
    "Just chain the brackets together to access deeper elements (same as R's [[]] and & when accessing nested lists)"
   ]
  },
  {
   "cell_type": "code",
   "execution_count": 186,
   "metadata": {},
   "outputs": [
    {
     "name": "stdout",
     "output_type": "stream",
     "text": [
      "((4, 5, 6), (7, 8))\n",
      "(4, 5, 6)\n",
      "(7, 8)\n",
      "5\n"
     ]
    }
   ],
   "source": [
    "myNestedTup = (4, 5, 6), (7, 8)\n",
    "print(myNestedTup)\n",
    "print(myNestedTup[0])\n",
    "print(myNestedTup[1])\n",
    "print(myNestedTup[0][1])"
   ]
  },
  {
   "cell_type": "markdown",
   "metadata": {},
   "source": [
    "### Modifying Tuples\n",
    "\n",
    "Tuples themselves are immutable. So once you make a tuple, you can't modify which object is stored in a particular slot.  \n",
    "\n",
    "The only real 'modification' you can make is if an object within the tuple is mutable.  \n",
    "\n",
    "In the example below, I make a tuple with a string, a list, and a boolean.  I can't change the boolean to be "
   ]
  },
  {
   "cell_type": "code",
   "execution_count": 187,
   "metadata": {},
   "outputs": [
    {
     "name": "stdout",
     "output_type": "stream",
     "text": [
      "('foo', [1, 2], True)\n",
      "('foo', [1, 2], True)\n",
      "<class 'tuple'>\n",
      "('foo', [5, 2], True)\n"
     ]
    }
   ],
   "source": [
    "myTup = tuple(['foo', [1,2], True])\n",
    "myTup2 = ('foo', [1,2], True) # alternative method of making it\n",
    "print(myTup)\n",
    "print(myTup2)\n",
    "print(type(myTup))\n",
    "myTup[1][0] = 5 # able to modify the list\n",
    "print(myTup)"
   ]
  },
  {
   "cell_type": "code",
   "execution_count": 188,
   "metadata": {},
   "outputs": [],
   "source": [
    "# myTup[2] = False # This will fail if executed"
   ]
  },
  {
   "cell_type": "markdown",
   "metadata": {},
   "source": [
    "Tuples can be combined together using `+` and can be repeated with `*`:"
   ]
  },
  {
   "cell_type": "code",
   "execution_count": 189,
   "metadata": {},
   "outputs": [
    {
     "name": "stdout",
     "output_type": "stream",
     "text": [
      "(4, None, 'foo')\n",
      "(6, 0)\n",
      "('bar',)\n",
      "(4, None, 'foo', 6, 0, 'bar')\n",
      "(4, None, 'foo', 4, None, 'foo', 4, None, 'foo')\n"
     ]
    }
   ],
   "source": [
    "myTup = (4, None, 'foo')\n",
    "myTup2 = (6, 0)\n",
    "myTup3 = ('bar',)\n",
    "print(myTup)\n",
    "print(myTup2)\n",
    "print(myTup3)\n",
    "myComboTup = myTup + myTup2 + myTup3\n",
    "print(myComboTup)\n",
    "myMultiTup = myTup * 3\n",
    "print(myMultiTup)\n"
   ]
  },
  {
   "cell_type": "markdown",
   "metadata": {},
   "source": [
    "### Unpacking Tuples\n",
    "\n",
    "This is a feature that doesn't have an analog in R. If you try to assign to a \"tuple-like expression\" (i.e. comma-sep variables), the value on the right-hand side of the equation will try to be unpacked.  \n",
    "\n",
    "The following will unpack myTup into 3 different variables:"
   ]
  },
  {
   "cell_type": "code",
   "execution_count": 190,
   "metadata": {},
   "outputs": [
    {
     "name": "stdout",
     "output_type": "stream",
     "text": [
      "5\n"
     ]
    }
   ],
   "source": [
    "myTup = (4, 5, 6)\n",
    "a, b, c = myTup\n",
    "# (a, b, c) = myTup # (equivalent)\n",
    "print(b)"
   ]
  },
  {
   "cell_type": "markdown",
   "metadata": {},
   "source": [
    "Notice that the left hand side has to equal whatever the value is:\n",
    "\n",
    "```python\n",
    "a, b = myTup\n",
    "---------------------------------------------------------------------------\n",
    "ValueError                                Traceback (most recent call last)\n",
    "Cell In[11], line 1\n",
    "----> 1 a, b = myTup\n",
    "\n",
    "ValueError: too many values to unpack (expected 2)\n",
    "```\n",
    "\n",
    "As long as the structure on the left side equals that on the right, it can be unpacked. Below is the unpacking of a nested tuple. Each element in this tuple will become an integer:"
   ]
  },
  {
   "cell_type": "code",
   "execution_count": 191,
   "metadata": {},
   "outputs": [
    {
     "name": "stdout",
     "output_type": "stream",
     "text": [
      "4\n",
      "<class 'int'>\n",
      "7\n",
      "<class 'int'>\n"
     ]
    }
   ],
   "source": [
    "myNest = (4, 5, (6, 7))\n",
    "a, b, (c, d) = myNest\n",
    "print(a)\n",
    "print(type(a))\n",
    "print(d)\n",
    "print(type(d))"
   ]
  },
  {
   "cell_type": "markdown",
   "metadata": {},
   "source": [
    "#### A few common ways to use this functionality:\n",
    "\n",
    "1. swap variable names without using a temporary variable\n",
    "\n",
    "2. Iterate over sequences of tuples or lists\n",
    "\n",
    "3. Returning multiple values from a function (will be shown later)\n",
    "\n",
    "\n",
    "Swapping:"
   ]
  },
  {
   "cell_type": "code",
   "execution_count": 192,
   "metadata": {},
   "outputs": [
    {
     "name": "stdout",
     "output_type": "stream",
     "text": [
      "1\n",
      "2\n",
      "2\n",
      "1\n"
     ]
    }
   ],
   "source": [
    "a, b = 1, 2\n",
    "print(a)\n",
    "print(b)\n",
    "b, a = a, b\n",
    "print(a)\n",
    "print(b)"
   ]
  },
  {
   "cell_type": "markdown",
   "metadata": {},
   "source": [
    "Iterating:"
   ]
  },
  {
   "cell_type": "code",
   "execution_count": 193,
   "metadata": {},
   "outputs": [
    {
     "name": "stdout",
     "output_type": "stream",
     "text": [
      "(1, 2, 3)\n",
      "<class 'tuple'>\n",
      "(4, 5, 6)\n",
      "<class 'tuple'>\n",
      "(7, 8, 9)\n",
      "<class 'tuple'>\n",
      "var a=1, var b=2, var c=3\n",
      "type a=<class 'int'>, type b=<class 'int'>, type c=<class 'int'>\n",
      "var a=4, var b=5, var c=6\n",
      "type a=<class 'int'>, type b=<class 'int'>, type c=<class 'int'>\n",
      "var a=7, var b=8, var c=9\n",
      "type a=<class 'int'>, type b=<class 'int'>, type c=<class 'int'>\n"
     ]
    }
   ],
   "source": [
    "mySeq = [(1, 2, 3), (4, 5, 6), (7, 8, 9)]\n",
    "\n",
    "# If we don't use it:\n",
    "for item in mySeq:\n",
    "    print(item)\n",
    "    print(type(item))\n",
    "    \n",
    "# If we do use it:\n",
    "for a, b, c in mySeq:\n",
    "    print(f'var a={a}, var b={b}, var c={c}')\n",
    "    print(f'type a={type(a)}, type b={type(b)}, type c={type(c)}')"
   ]
  },
  {
   "cell_type": "markdown",
   "metadata": {},
   "source": [
    "Note that the same element-agreement rules apply. If you have `for a, b, c in mySeq`, then every element of mySeq must have 3 things:\n",
    "<br/>\n",
    "<br/>\n",
    "<br/>\n",
    "  \n",
    "  \n",
    "```python\n",
    "mySeq2 = [(1, 2, 3), (4, 5), (7, 8, 9)]\n",
    "for a, b, c in mySeq2:\n",
    "    print(f'var a={a}, var b={b}, var c={c}')\n",
    "    print(f'type a={type(a)}, type b={type(b)}, type c={type(c)}')\n",
    "\n",
    "var a=1, var b=2, var c=3\n",
    "type a=<class 'int'>, type b=<class 'int'>, type c=<class 'int'>\n",
    "---------------------------------------------------------------------------\n",
    "ValueError                                Traceback (most recent call last)\n",
    "Cell In[18], line 2\n",
    "      1 mySeq2 = [(1, 2, 3), (4, 5), (7, 8, 9)]\n",
    "----> 2 for a, b, c in mySeq2:\n",
    "      3     print(f'var a={a}, var b={b}, var c={c}')\n",
    "      4     print(f'type a={type(a)}, type b={type(b)}, type c={type(c)}')\n",
    "\n",
    "ValueError: not enough values to unpack (expected 3, got 2)\n",
    "```\n",
    "<br/>\n",
    "<br/>\n",
    "<br/>\n",
    "\n",
    "### Rest\n",
    "\n",
    "The iterating can be annoying if you only want a few of the elements in a tuple and don't care about the others. You can use `*rest` to capture everything else. It is also used to indicate an arbitrarily long list of optional arguments in a function (like R's ...).  \n",
    "\n",
    "It doesn't have to be `*rest`, though. A common convention is to use underscore: `*_` if you don't want to keep the values for anything. The following two are equivalent:"
   ]
  },
  {
   "cell_type": "code",
   "execution_count": 194,
   "metadata": {},
   "outputs": [
    {
     "name": "stdout",
     "output_type": "stream",
     "text": [
      "1\n",
      "[3, 4, 5]\n",
      "8\n",
      "[10, 11, 12]\n"
     ]
    }
   ],
   "source": [
    "values1 = (1, 2, 3, 4, 5)\n",
    "a1, b1, *rest = values1\n",
    "print(a1)\n",
    "print(rest)\n",
    "\n",
    "values2 = (8, 9, 10, 11, 12)\n",
    "a2, b2, *_ = values2\n",
    "print(a2)\n",
    "print(_)"
   ]
  },
  {
   "cell_type": "markdown",
   "metadata": {},
   "source": [
    "### Count\n",
    "\n",
    "The final tuple thing we'll review is `count` this is a tuple method that is similar to R's `table()` in that it will return the number of occurrences of something. You have to specify what you want to count though. The example below will give you the number of times 2 appears in the tuple:"
   ]
  },
  {
   "cell_type": "code",
   "execution_count": 195,
   "metadata": {},
   "outputs": [
    {
     "data": {
      "text/plain": [
       "4"
      ]
     },
     "execution_count": 195,
     "metadata": {},
     "output_type": "execute_result"
    }
   ],
   "source": [
    "a = (1, 2, 2, 2, 3, 4, 2)\n",
    "a.count(2)"
   ]
  },
  {
   "cell_type": "markdown",
   "metadata": {},
   "source": [
    "<a name=\"lists\"></a>\n",
    "## Lists\n",
    "\n",
    "Lists in python are very similar to lists in R. They're also very similar to tuples in their functionality, except for the fact that they can be modified.   \n",
    "\n",
    "They're variable in length and can be modified in place.  \n",
    "\n",
    "As we've already seen in the examples, lists can be created using brackets `[]` or the `list` type function.  "
   ]
  },
  {
   "cell_type": "code",
   "execution_count": 196,
   "metadata": {},
   "outputs": [
    {
     "name": "stdout",
     "output_type": "stream",
     "text": [
      "[2, 3, 7, None]\n",
      "[2, 9, 7, None]\n",
      "[1, 'foo', 5]\n"
     ]
    }
   ],
   "source": [
    "myList = [2, 3, 7, None]\n",
    "myTup = (1, \"foo\", 5)\n",
    "myOtherList = list(myTup)\n",
    "print(myList)\n",
    "myList[1] = 9\n",
    "print(myList)\n",
    "print(myOtherList)\n"
   ]
  },
  {
   "cell_type": "markdown",
   "metadata": {},
   "source": [
    "\n",
    "The `list` type function is commonly used to materialize an iterator (i.e. get the values from a range object instead of just a range object)"
   ]
  },
  {
   "cell_type": "code",
   "execution_count": 197,
   "metadata": {},
   "outputs": [
    {
     "name": "stdout",
     "output_type": "stream",
     "text": [
      "range(0, 10)\n",
      "[0, 1, 2, 3, 4, 5, 6, 7, 8, 9]\n"
     ]
    }
   ],
   "source": [
    "myRange = range(10)\n",
    "print(myRange)\n",
    "print(list(myRange))"
   ]
  },
  {
   "cell_type": "markdown",
   "metadata": {},
   "source": [
    "### Adding and Removing Elements\n",
    "\n",
    "Add stuff to the end of a list with `append`.  \n",
    "\n",
    "Add stuff anywhere using `insert` (but careful, this is computationally expensive on big lists).  \n",
    "\n",
    "`pop` essentially \"pops out\" a list element, so it removes it from the list object and also returns it.  \n",
    "\n",
    "You can use `remove` to remove **the first occurrence** of a value in a list.  \n",
    "\n",
    "Finally, simply use `in` and `not in` to check if a value is in a list."
   ]
  },
  {
   "cell_type": "code",
   "execution_count": 198,
   "metadata": {},
   "outputs": [
    {
     "name": "stdout",
     "output_type": "stream",
     "text": [
      "Add dwarf: ['foo', 'peekaboo', 'baz', 'dwarf']\n",
      "\n",
      " Insert red: ['foo', 'red', 'peekaboo', 'baz', 'dwarf']\n",
      "\n",
      "Popped value: peekaboo\n",
      "\n",
      "List with popped value removed: ['foo', 'red', 'baz', 'dwarf']\n",
      "\n",
      "Add another foo: ['foo', 'red', 'baz', 'dwarf', 'foo']\n",
      "\n",
      "Remove first foo: ['red', 'baz', 'dwarf', 'foo']\n"
     ]
    }
   ],
   "source": [
    "myList = ['foo', 'peekaboo', 'baz']\n",
    "myList.append('dwarf')\n",
    "print(f\"Add dwarf: {myList}\\n\")\n",
    "myList.insert(1, \"red\")\n",
    "print(f\" Insert red: {myList}\\n\")\n",
    "myPop = myList.pop(2)\n",
    "print(f\"Popped value: {myPop}\\n\")\n",
    "print(f\"List with popped value removed: {myList}\\n\")\n",
    "myList.append(\"foo\")\n",
    "print(f\"Add another foo: {myList}\\n\")\n",
    "myList.remove(\"foo\")\n",
    "print(f\"Remove first foo: {myList}\")"
   ]
  },
  {
   "cell_type": "markdown",
   "metadata": {},
   "source": [
    "### Concatenating and Combining\n",
    "\n",
    "Same as tuples, just us `+` to concatenate multiple lists together. This is computationally expensive because it has to make a copy and a new list.  \n",
    "\n",
    "Instead, use the `extend` method. This can add multiple elements of any type, so can use it to concatenate multiple lists or add anything else you want to a list.  \n",
    "\n",
    "The functionality is a little different though, because append can only operate on the existing list variable...you can't assign it to a new variable in the same call."
   ]
  },
  {
   "cell_type": "code",
   "execution_count": 199,
   "metadata": {},
   "outputs": [
    {
     "name": "stdout",
     "output_type": "stream",
     "text": [
      "Add two lists with + (and also assign to a new variable): [4, None, 'foo', 7, 8, (2, 3)]\n",
      "This keeps myList and myList2 unchanged:\n",
      "\t[4, None, 'foo']\n",
      "\t[7, 8, (2, 3)]\n",
      "\n",
      "Trying to extend and assign to out2 returns None for out2 and adds it to myList:\n",
      "\tout2: None\n",
      "\tmyList: [4, None, 'foo', 7, 8, (2, 3)]\n",
      "\n",
      "Trying to extend and assign to out3 returns None for out3 and continues to add to myList:\n",
      "\tout3: None\n",
      "\tmyList: [4, None, 'foo', 7, 8, (2, 3), 'a', 'b', 23]\n",
      "\n"
     ]
    }
   ],
   "source": [
    "myList = [4, None, \"foo\"]\n",
    "myList2 = [7, 8, (2, 3)]\n",
    "out1 = myList + myList2\n",
    "print(f\"Add two lists with + (and also assign to a new variable): {out1}\")\n",
    "print(f\"This keeps myList and myList2 unchanged:\\n\\t{myList}\\n\\t{myList2}\\n\")\n",
    "out2 = myList.extend(myList2) \n",
    "print(f\"Trying to extend and assign to out2 returns None for out2 and adds it to myList:\\n\\tout2: {out2}\\n\\tmyList: {myList}\\n\")\n",
    "out3 = myList.extend([\"a\", \"b\", 23])\n",
    "print(f\"Trying to extend and assign to out3 returns None for out3 and continues to add to myList:\\n\\tout3: {out3}\\n\\tmyList: {myList}\\n\")"
   ]
  },
  {
   "cell_type": "markdown",
   "metadata": {},
   "source": [
    "### Sorting\n",
    "\n",
    "The `sort` method has a few different uses for lists.\n",
    "\n",
    "1. You can sort a list in place with it (i.e. don't have to make a new object)\n",
    "\n",
    "1. You can also provide a sort key to tell it how to sort. Example given is sorting strings by lenght, not sure what other key options there might be."
   ]
  },
  {
   "cell_type": "code",
   "execution_count": 200,
   "metadata": {},
   "outputs": [
    {
     "name": "stdout",
     "output_type": "stream",
     "text": [
      "Original list: [7, 2, 5, 1, 3]\n",
      "\n",
      "Standard sort: [1, 2, 3, 5, 7]\n",
      "\n",
      "Using reverse flag: [7, 5, 3, 2, 1]\n",
      "\n",
      "New list of strings: ['saw', 'small', 'He', 'foxes', 'six']\n",
      "\n",
      "Default sort for strings is alphabetical (capital then lowercase): ['He', 'foxes', 'saw', 'six', 'small']\n",
      "\n",
      "Provide a key to change the sort: ['He', 'saw', 'six', 'foxes', 'small']\n",
      "\n"
     ]
    }
   ],
   "source": [
    "a = [7, 2, 5, 1, 3]\n",
    "print(f\"Original list: {a}\\n\")\n",
    "a.sort() # No output here and don't have to do like a = a.sort() or anything\n",
    "print(f\"Standard sort: {a}\\n\")\n",
    "a.sort(reverse=True)\n",
    "print(f\"Using reverse flag: {a}\\n\")\n",
    "\n",
    "b = [\"saw\", \"small\", \"He\", \"foxes\", \"six\"]\n",
    "print(f\"New list of strings: {b}\\n\")\n",
    "b.sort()\n",
    "print(f\"Default sort for strings is alphabetical (capital then lowercase): {b}\\n\")\n",
    "b.sort(key=len)\n",
    "print(f\"Provide a key to change the sort: {b}\\n\")"
   ]
  },
  {
   "cell_type": "markdown",
   "metadata": {},
   "source": [
    "### Slicing\n",
    "\n",
    "Slicing is very similar to how you slice in R. Only thing is you can't use `c(a,b)`, you have to just do `a:b`  \n",
    "\n",
    "Similar to `range()` first value is inclusive while second value is exclusive!  \n",
    "\n",
    "You can also use slices to modify the list to replace values as certain indices (same as you would do in R)  \n",
    "\n",
    "Not sure if you can do this in R, but can do `a:` to get from a to the end or `:b` to get from the beginning to b in your slice.  \n",
    "\n",
    "Finally, you can use negative indices to slice relative to the end.  \n",
    "\n",
    "Here is a little diagram to help visualize it since it's a bit different than R:\n",
    "\n",
    "<img src=\"./myImages/fig3.1_slicing.png\" width=\"500\"/>\n",
    "\n",
    "Can also input a `step` using a second colon, to indicate which elements to take (i.e. step of 2 would take every other element, step of 3 would take every 3rd, etc.)  \n",
    "\n",
    "A step of -1 will reverse a list."
   ]
  },
  {
   "cell_type": "code",
   "execution_count": 201,
   "metadata": {},
   "outputs": [
    {
     "name": "stdout",
     "output_type": "stream",
     "text": [
      "Original list: [7, 2, 3, 7, 5, 6, 0, 1]\n",
      "\n",
      "mySeq[1:5] gets the index 1 (second element) through index 4 (fifth element): [2, 3, 7, 5]\n",
      "\n",
      "mySeq[:5] gets beginning until index 4 (5th element): [7, 2, 3, 7, 5]\n",
      "\n",
      "mySeq[3:] gets index 3 (fourth element) to the end: [7, 5, 6, 0, 1]\n",
      "\n",
      "mySeq[-4:] gets four elements from the end until the end: [5, 6, 0, 1]\n",
      "\n",
      "mySeq[:-3] gets the beginning until the 3rd index from the end (4th element from end): [7, 2, 3, 7, 5]\n",
      "\n",
      "mySeq[-6:-2] gets 6 elements from the end to three elements from the end: [3, 7, 5, 6]\n",
      "\n",
      "\n",
      "\n",
      "mySeq[::2] gets every other element: [7, 3, 5, 0]\n",
      "\n",
      "mySeq[::-1] reverses it: [1, 0, 6, 5, 7, 3, 2, 7]\n"
     ]
    }
   ],
   "source": [
    "mySeq = [7, 2, 3, 7, 5, 6, 0, 1]\n",
    "print(f\"Original list: {mySeq}\\n\")\n",
    "print(f\"mySeq[1:5] gets the index 1 (second element) through index 4 (fifth element): {mySeq[1:5]}\\n\")\n",
    "print(f\"mySeq[:5] gets beginning until index 4 (5th element): {mySeq[:5]}\\n\")\n",
    "print(f\"mySeq[3:] gets index 3 (fourth element) to the end: {mySeq[3:]}\\n\")\n",
    "print(f\"mySeq[-4:] gets four elements from the end until the end: {mySeq[-4:]}\\n\")\n",
    "print(f\"mySeq[:-3] gets the beginning until the 3rd index from the end (4th element from end): {mySeq[:-3]}\\n\")\n",
    "print(f\"mySeq[-6:-2] gets 6 elements from the end to three elements from the end: {mySeq[-6:-2]}\\n\\n\\n\")\n",
    "print(f\"mySeq[::2] gets every other element: {mySeq[::2]}\\n\")\n",
    "print(f\"mySeq[::-1] reverses it: {mySeq[::-1]}\")"
   ]
  },
  {
   "cell_type": "markdown",
   "metadata": {},
   "source": [
    "<a name=\"dictionary\"></a>\n",
    "## Dictionary\n",
    "\n",
    "Aka a *hash map* or *associative array*.  \n",
    "\n",
    "A dictionary is a collection of key-value pairs. Each key is associated with a value so that the value can be retrieved, inserted, modified, or deleted given its key.  \n",
    "\n",
    "A common method for building a dictionary is to use curly braces `{}`, with keys separated from their values by colons (and then key-val pairs are separated with commas, like you would expect).  \n",
    "\n",
    "Cool/useful thing about dictionaries is that the values can be any class, even another dictionary!  \n",
    "\n",
    "Keys can only be immutable objects, more on this later.\n",
    "\n",
    "Build a dictionary:"
   ]
  },
  {
   "cell_type": "code",
   "execution_count": 202,
   "metadata": {},
   "outputs": [
    {
     "data": {
      "text/plain": [
       "{'a': 'some value', 'b': [1, 2, 3, 4]}"
      ]
     },
     "execution_count": 202,
     "metadata": {},
     "output_type": "execute_result"
    }
   ],
   "source": [
    "myDict = {\"a\": \"some value\", \"b\": [1, 2, 3, 4]}\n",
    "myDict"
   ]
  },
  {
   "cell_type": "markdown",
   "metadata": {},
   "source": [
    "Add a key-value pair with brackets:"
   ]
  },
  {
   "cell_type": "code",
   "execution_count": 203,
   "metadata": {},
   "outputs": [
    {
     "name": "stdout",
     "output_type": "stream",
     "text": [
      "New dictionary: {'a': 'some value', 'b': [1, 2, 3, 4], 7: 'an integer'}\n",
      "\n"
     ]
    }
   ],
   "source": [
    "myDict[7] = \"an integer\"\n",
    "print(f\"New dictionary: {myDict}\\n\")"
   ]
  },
  {
   "cell_type": "markdown",
   "metadata": {},
   "source": [
    "Access using brackets as well. Note that these aren't numeric indices like in a list to get the nth element, they have to be a key:"
   ]
  },
  {
   "cell_type": "code",
   "execution_count": 204,
   "metadata": {},
   "outputs": [
    {
     "name": "stdout",
     "output_type": "stream",
     "text": [
      "Value for key b: [1, 2, 3, 4]\n",
      "Value for key 7: an integer\n"
     ]
    }
   ],
   "source": [
    "print(f\"Value for key b: {myDict['b']}\")\n",
    "print(f\"Value for key 7: {myDict[7]}\")"
   ]
  },
  {
   "cell_type": "markdown",
   "metadata": {},
   "source": [
    "Use `in` and `not in` to check if a dictionary has a certain **key**:"
   ]
  },
  {
   "cell_type": "code",
   "execution_count": 205,
   "metadata": {},
   "outputs": [
    {
     "data": {
      "text/plain": [
       "True"
      ]
     },
     "execution_count": 205,
     "metadata": {},
     "output_type": "execute_result"
    }
   ],
   "source": [
    "\"b\" in myDict"
   ]
  },
  {
   "cell_type": "markdown",
   "metadata": {},
   "source": [
    "Can `pop` a value (where it gets removed and returned, like in tuples), or use `del` to just delete it:"
   ]
  },
  {
   "cell_type": "code",
   "execution_count": 206,
   "metadata": {},
   "outputs": [
    {
     "name": "stdout",
     "output_type": "stream",
     "text": [
      "New dictionary: {'a': 'some value', 'b': [1, 2, 3, 4], 7: 'an integer', 5: 'new dict entry with 5 as key', 'dummy': 'dummy dict value'}\n",
      "\n",
      "Dictionary with my key = 5 element removed: {'a': 'some value', 'b': [1, 2, 3, 4], 7: 'an integer', 'dummy': 'dummy dict value'}\n",
      "\n",
      "When popping, get:\n",
      "\tnew myDict: {'a': 'some value', 'b': [1, 2, 3, 4], 7: 'an integer'}\n",
      "\tpopped val: dummy dict value\n",
      "\n"
     ]
    }
   ],
   "source": [
    "myDict[5] = \"new dict entry with 5 as key\"\n",
    "myDict[\"dummy\"] = \"dummy dict value\"\n",
    "print(f\"New dictionary: {myDict}\\n\")\n",
    "del myDict[5] # notice how this is modified in place\n",
    "print(f\"Dictionary with my key = 5 element removed: {myDict}\\n\")\n",
    "dummyVal = myDict.pop('dummy')\n",
    "print(f\"When popping, get:\\n\\tnew myDict: {myDict}\\n\\tpopped val: {dummyVal}\\n\")"
   ]
  },
  {
   "cell_type": "markdown",
   "metadata": {},
   "source": [
    "`keys` and `values` are both methods for dictionaries - They create iterators for these, respectively. Kind of have to cast them into a list for them to be usable. Can also put into a for loop."
   ]
  },
  {
   "cell_type": "code",
   "execution_count": 207,
   "metadata": {},
   "outputs": [
    {
     "name": "stdout",
     "output_type": "stream",
     "text": [
      "Without casting: \n",
      "\tmyDict.keys(): dict_keys(['a', 'b', 7])\n",
      "\ttype: <class 'dict_keys'>\n",
      "\n",
      "\n",
      "With casting: \n",
      "\tlist(myDict.keys()): ['a', 'b', 7]\n",
      "\ttype: <class 'list'>\n",
      "\n",
      "\n",
      "Iterate over the keys and print their values:\n",
      "\n",
      "Value for key a is: some value\n",
      "\n",
      "Value for key b is: [1, 2, 3, 4]\n",
      "\n",
      "Value for key 7 is: an integer\n",
      "\n"
     ]
    }
   ],
   "source": [
    "print(f\"Without casting: \\n\\tmyDict.keys(): {myDict.keys()}\\n\\ttype: {type(myDict.keys())}\\n\\n\")\n",
    "print(f\"With casting: \\n\\tlist(myDict.keys()): {list(myDict.keys())}\\n\\ttype: {type(list(myDict.keys()))}\\n\\n\")\n",
    "print(\"Iterate over the keys and print their values:\\n\")\n",
    "for k in myDict.keys():\n",
    "    print(f\"Value for key {k} is: {myDict[k]}\\n\")"
   ]
  },
  {
   "cell_type": "markdown",
   "metadata": {},
   "source": [
    "The `items` method will iterate over keys and values at the same time and return them as tuples of length 2:"
   ]
  },
  {
   "cell_type": "code",
   "execution_count": 208,
   "metadata": {},
   "outputs": [
    {
     "data": {
      "text/plain": [
       "[('a', 'some value'), ('b', [1, 2, 3, 4]), (7, 'an integer')]"
      ]
     },
     "execution_count": 208,
     "metadata": {},
     "output_type": "execute_result"
    }
   ],
   "source": [
    "list(myDict.items())"
   ]
  },
  {
   "cell_type": "code",
   "execution_count": 209,
   "metadata": {},
   "outputs": [
    {
     "data": {
      "text/plain": [
       "tuple"
      ]
     },
     "execution_count": 209,
     "metadata": {},
     "output_type": "execute_result"
    }
   ],
   "source": [
    "type(list(myDict.items())[0])"
   ]
  },
  {
   "cell_type": "markdown",
   "metadata": {},
   "source": [
    "Use the `update` method to modify dictionaries in place. You can use this to add new key/value pairs and also to replace an existing key's value:"
   ]
  },
  {
   "cell_type": "code",
   "execution_count": 210,
   "metadata": {},
   "outputs": [
    {
     "name": "stdout",
     "output_type": "stream",
     "text": [
      "Dictionary with two new key/value pairs added:\n",
      "\t{'a': 'some value', 'b': [1, 2, 3, 4], 7: 'an integer', 'c': 'new value1', 'd': 'other new value'}\n",
      "\n",
      "Dictionary with a key's value replaced:\n",
      "\t{'a': 'some value', 'b': 'new val for b-key', 7: 'an integer', 'c': 'new value1', 'd': 'other new value'}\n",
      "\n"
     ]
    }
   ],
   "source": [
    "myDict.update({\"c\" : \"new value1\", \"d\" : \"other new value\"})\n",
    "print(f\"Dictionary with two new key/value pairs added:\\n\\t{myDict}\\n\")\n",
    "myDict.update({\"b\" : \"new val for b-key\"})\n",
    "print(f\"Dictionary with a key's value replaced:\\n\\t{myDict}\\n\")"
   ]
  },
  {
   "cell_type": "markdown",
   "metadata": {},
   "source": [
    "### Creating Dictionaries from sequences\n",
    "\n",
    "First, have to take a look at the `zip()` function, which yields tuples of length n (depending on number of args)\n",
    "\n",
    "```python\n",
    "Init signature: zip(self, /, *args, **kwargs)\n",
    "Docstring:     \n",
    "zip(*iterables, strict=False) --> Yield tuples until an input is exhausted.\n",
    "\n",
    "   >>> list(zip('abcdefg', range(3), range(4)))\n",
    "   [('a', 0, 0), ('b', 1, 1), ('c', 2, 2)]\n",
    "\n",
    "The zip object yields n-length tuples, where n is the number of iterables\n",
    "passed as positional arguments to zip().  The i-th element in every tuple\n",
    "comes from the i-th iterable argument to zip().  This continues until the\n",
    "shortest argument is exhausted.\n",
    "\n",
    "If strict is true and one of the arguments is exhausted before the others,\n",
    "raise a ValueError.\n",
    "Type:           type\n",
    "Subclasses:    \n",
    "```\n",
    "\n",
    "The idea here is that you use zip to make a bunch of 2-tuples and the first element becomes the key while the second element becomes the value.\n",
    "\n",
    "#### First just use zip on its own"
   ]
  },
  {
   "cell_type": "code",
   "execution_count": 211,
   "metadata": {},
   "outputs": [
    {
     "name": "stdout",
     "output_type": "stream",
     "text": [
      "<zip object at 0x10ed7ac80>\n",
      "[('a', 0), ('b', 1), ('c', 2), ('d', 3), ('e', 4)]\n",
      "{'a': 0, 'b': 1, 'c': 2, 'd': 3, 'e': 4}\n",
      "{'a': 0, 'b': 1, 'c': 2, 'd': 3, 'e': 4}\n"
     ]
    }
   ],
   "source": [
    "### Make lists and then zip them\n",
    "key_list = [\"a\", \"b\", \"c\", \"d\", \"e\"]\n",
    "val_list = range(5)\n",
    "myTups = zip(key_list, val_list)\n",
    "\n",
    "### Inspect object\n",
    "print(myTups) ### Notice that zips are *iterators*, have to coerce to list\n",
    "print(list(myTups))\n",
    "\n",
    "### Non-pythonic way you might make a dictionary:\n",
    "badMap = {}\n",
    "myTups = zip(key_list, val_list) # have to remake the zip result because we used it above...don't quite get thisyet.\n",
    "for key, val in myTups:\n",
    "    badMap[key] = val\n",
    "    \n",
    "### Pythonic way\n",
    "myTups = zip(key_list, val_list)\n",
    "goodMap = dict(myTups)\n",
    "\n",
    "print(badMap)\n",
    "print(goodMap)"
   ]
  },
  {
   "cell_type": "markdown",
   "metadata": {},
   "source": [
    "### Default Values\n",
    "\n",
    "Not exactly sure when I would use this. Seems somewhat analogous to ifelse() inlines, but not quite.  \n",
    "\n",
    "Essentially, if you have logic that searches a dictionary for a key and returns the value, you will want an else statement to give a value when that key isn't in the dictionary. this is a shortcut to do so.  \n",
    "\n",
    "`myDict.get(key)` will return `None` if key is not in myDict.\n",
    "\n",
    "```python\n",
    "### Standard logic\n",
    "if key in some_dict:\n",
    "    value = some_dict[key]\n",
    "else:\n",
    "    value = default_value\n",
    "\n",
    "### Use default val in the get method.\n",
    "### default_value has to be assigned previously\n",
    "value = some_dict.get(key, default_value)\n",
    "```\n",
    "\n",
    "Below are some examples of using default values.  \n",
    "The task is to create a dictionary that categorizes a list of words by their first letter:"
   ]
  },
  {
   "cell_type": "code",
   "execution_count": 212,
   "metadata": {},
   "outputs": [
    {
     "name": "stdout",
     "output_type": "stream",
     "text": [
      "{'a': ['apple', 'atom'], 'b': ['bat', 'bar', 'book'], 'c': ['cat', 'carpet', 'cash', 'chop']}\n",
      "{'a': ['apple', 'atom'], 'b': ['bat', 'bar', 'book'], 'c': ['cat', 'carpet', 'cash', 'chop']}\n",
      "defaultdict(<class 'list'>, {})\n",
      "defaultdict(<class 'list'>, {'a': ['apple', 'atom'], 'b': ['bat', 'bar', 'book'], 'c': ['cat', 'carpet', 'cash', 'chop']})\n"
     ]
    }
   ],
   "source": [
    "### Non-pythonic way\n",
    "words = [\"apple\", \"bat\", \"bar\", \"atom\", \"book\", \"cat\", \"carpet\", \"cash\", \"chop\"]\n",
    "byLetter_dict = {}\n",
    "\n",
    "for word in words:                         # iterate over the list\n",
    "    letter = word[0]                       # slice each word, getting the first character\n",
    "    if letter not in byLetter_dict:        # check if the first letter of this word is already a key in the dictionary\n",
    "        byLetter_dict[letter] = [word]     # if it isn't, then add letter as a key and the value is a list with the word as an element\n",
    "    else:\n",
    "        byLetter_dict[letter].append(word) # if it is already, then append the word to the list that already exists\n",
    "        \n",
    "print(byLetter_dict)\n",
    "\n",
    "### Quicker way using setdefault\n",
    "byLetter_dict = {}\n",
    "for word in words:\n",
    "    letter = word[0]                                      # same as above\n",
    "    byLetter_dict.setdefault(letter, []).append(word)     # setdefault's help: 'Return the value of the specified key. If the key does not exist: insert the key, with the specified value'\n",
    "                                                          # So this checks byLetter_dict if letter is already a key. If it IS, then it appends the word to the value for that key\n",
    "                                                          # If it ISN'T, then it first creates a list as the default value, then it goes ahead and appends the word to it.\n",
    "\n",
    "print(byLetter_dict)\n",
    "\n",
    "### Another way using `collections` module\n",
    "from collections import defaultdict\n",
    "byLetter_dict = defaultdict(list)\n",
    "print(byLetter_dict)\n",
    "for word in words:\n",
    "    byLetter_dict[word[0]].append(word)\n",
    "print(byLetter_dict)"
   ]
  },
  {
   "cell_type": "markdown",
   "metadata": {},
   "source": [
    "### Valid dictionary key types\n",
    "\n",
    "Keys have to be **hashable** (read immutable)\n",
    "\n",
    "They can be scalars (int, float, string) or tuples that are made up of only immutable objects.\n",
    "\n",
    "The `hash()` function determines if an object is hashable and thus able to be a dictionary key.\n",
    "\n",
    "If you want to use a list as a key, have to convert it to a tuple first!\n",
    "\n",
    "<a name=\"sets\"></a>\n",
    "## Sets\n",
    "\n",
    "A set is an unordered collection of unique elements.\n",
    "\n",
    "Can use the `set()` function or the \"set literal\" which is curly braces. \n",
    "\n",
    "How does a set's {} differ from a dictionary's? Seems like:\n",
    "1. Empty brackets (`{}`) create empty dictionary\n",
    "2. Brackets with colons somewhere (`{\"key1\":\"val1\",\"key2\":\"val2}`) create populated dictionary\n",
    "3. Brackets with commas only (`{\"val1\", \"val2\", \"val3\", \"val4}`) create sets\n",
    "\n",
    "How does a set differ from a list?\n",
    "1. Sets can only contain **unique elements**. If you initialize a set with duplicates, they will be removed.\n",
    "2. Sets are **unordered**. \n",
    "3. They're searched using hashes \n",
    "    - this means they also have to be immutable.\n",
    "    - have to do the list -> tuple conversion if you want a list-like object in a set\n",
    "    - Using the `in` operator is much more efficient than in a list\n",
    "\n",
    "#### Set operators\n",
    "\n",
    "Sets allow use of mathematical set operators. See the table below.  \n",
    "\n",
    "The logical set operators are `in place`\n",
    "\n",
    "<img src=\"./myImages/table3.1_setOperations.png\" width = 600>"
   ]
  },
  {
   "cell_type": "code",
   "execution_count": 213,
   "metadata": {},
   "outputs": [
    {
     "name": "stdout",
     "output_type": "stream",
     "text": [
      "{1, 2, 3, 4, 5}\n",
      "{3, 4, 5, 6, 7, 8}\n"
     ]
    }
   ],
   "source": [
    "### Unique and ordered\n",
    "a = set([5, 3, 1, 2, 3, 2, 2, 4])\n",
    "b = {8, 8, 7, 4, 3, 5, 6}\n",
    "print(a)\n",
    "print(b)"
   ]
  },
  {
   "cell_type": "code",
   "execution_count": 214,
   "metadata": {},
   "outputs": [
    {
     "name": "stdout",
     "output_type": "stream",
     "text": [
      "{1, 2, 3, 4, 5, 6, 7, 8}\n",
      "{1, 2, 3, 4, 5, 6, 7, 8}\n",
      "{3, 4, 5}\n",
      "{3, 4, 5}\n"
     ]
    }
   ],
   "source": [
    "### Set operators\n",
    "print(a.union(b))\n",
    "print(a | b)\n",
    "print(a.intersection(b))\n",
    "print(a & b)"
   ]
  },
  {
   "cell_type": "code",
   "execution_count": 215,
   "metadata": {},
   "outputs": [
    {
     "name": "stdout",
     "output_type": "stream",
     "text": [
      "{1, 2, 3, 4, 5}\n",
      "{1, 2, 3, 4, 5, 6, 7, 8}\n",
      "{1, 2, 3, 4, 5}\n",
      "{3, 4, 5}\n"
     ]
    }
   ],
   "source": [
    "### In-place operations (aka the _update) versions\n",
    "c = a.copy()\n",
    "print(c)\n",
    "c |= b\n",
    "print(c)\n",
    "\n",
    "d = a.copy()\n",
    "print(d)\n",
    "d.intersection_update(b)\n",
    "print(d)"
   ]
  },
  {
   "cell_type": "code",
   "execution_count": 216,
   "metadata": {},
   "outputs": [
    {
     "name": "stdout",
     "output_type": "stream",
     "text": [
      "True\n",
      "True\n"
     ]
    }
   ],
   "source": [
    "### Check subsets/supersets\n",
    "a_set = {1, 2, 3, 4, 5}\n",
    "print({1, 2, 3}.issubset(a_set))\n",
    "print(a_set.issuperset({1, 2, 3}))"
   ]
  },
  {
   "cell_type": "markdown",
   "metadata": {},
   "source": [
    "<a name=\"sequence\"></a>\n",
    "## Built-In Sequence Functions\n",
    "\n",
    "The built-ins are efficient and good to know!\n",
    "\n",
    "1. `enumerate` - keep track of the index of the current item while iterating over a sequence  \n",
    "2. `sorted` - returns a new, sorted list from the elements of any sequence\n",
    "3. `zip` - pairs up the elements of provided lists/tuples/sequences to make a list of tuples\n",
    "4. `reversed` - iterates over elements of a sequence in reverse order\n"
   ]
  },
  {
   "cell_type": "code",
   "execution_count": 217,
   "metadata": {},
   "outputs": [
    {
     "name": "stdout",
     "output_type": "stream",
     "text": [
      "Value: a; Index: 0\n",
      "Value: b; Index: 1\n",
      "Value: c; Index: 2\n",
      "Value: d; Index: 3\n",
      "Value: e; Index: 4\n",
      "\n",
      "\n",
      "Value: a; Index: 0\n",
      "Value: b; Index: 1\n",
      "Value: c; Index: 2\n",
      "Value: d; Index: 3\n",
      "Value: e; Index: 4\n",
      "\n",
      "\n",
      "[0, 1, 2, 2, 3, 6, 7]\n",
      "[' ', 'a', 'c', 'e', 'e', 'h', 'o', 'r', 'r', 's']\n",
      "\n",
      "\n",
      "[('foo', 'one'), ('bar', 'two'), ('baz', 'three')]\n",
      "\n",
      "\n",
      "[('foo', 'one', False), ('bar', 'two', True)]\n",
      "\n",
      "\n",
      "foo, one\n",
      "bar, two\n",
      "baz, three\n",
      "foo, one\n",
      "bar, two\n",
      "baz, three\n",
      "\n",
      "\n",
      "0: foo, one\n",
      "1: bar, two\n",
      "2: baz, three\n",
      "\n",
      "\n",
      "<range_iterator object at 0x10599a2e0>\n",
      "[9, 8, 7, 6, 5, 4, 3, 2, 1, 0]\n"
     ]
    }
   ],
   "source": [
    "###\n",
    "### ENUMERATE ~~~~~~~~~~~~~~~~~~~~~~~~~~~~~~~~~\n",
    "###\n",
    "myCollection = [\"a\", \"b\", \"c\", \"d\", \"e\"]\n",
    "\n",
    "### DIY\n",
    "index = 0\n",
    "for value in myCollection:\n",
    "    print(f\"Value: {value}; Index: {index}\")\n",
    "    index += 1\n",
    "\n",
    "print(\"\\n\")\n",
    "### Enumerate\n",
    "for index, value in enumerate(myCollection):\n",
    "    print(f\"Value: {value}; Index: {index}\")\n",
    "    \n",
    "###\n",
    "### SORTED ~~~~~~~~~~~~~~~~~~~~~~~~~~~~~~~~~\n",
    "###\n",
    "\n",
    "print(\"\\n\")\n",
    "print(sorted([7, 1, 2, 6, 0, 3, 2]))\n",
    "print(sorted(\"horse race\"))\n",
    "\n",
    "###\n",
    "### ZIP ~~~~~~~~~~~~~~~~~~~~~~~~~~~~~~~~~\n",
    "###\n",
    "\n",
    "print(\"\\n\")\n",
    "### Basic\n",
    "seq1 = [\"foo\", \"bar\", \"baz\"]\n",
    "seq2 = [\"one\", \"two\", \"three\"]\n",
    "zipped = zip(seq1, seq2)\n",
    "print(list(zipped))\n",
    "\n",
    "print(\"\\n\")\n",
    "### Adding shorter sequence shortens zip\n",
    "seq3 = [False, True]\n",
    "print(list(zip(seq1, seq2, seq3)))\n",
    "\n",
    "print(\"\\n\")\n",
    "### Iterate over multiple sequences with zip:\n",
    "for (a, b) in zip(seq1, seq2):\n",
    "    print(f\"{a}, {b}\")\n",
    "    \n",
    "### Not sure what the () above does...\n",
    "for a, b in zip(seq1, seq2):\n",
    "    print(f\"{a}, {b}\")\n",
    "\n",
    "print(\"\\n\")\n",
    "### With enumerate:\n",
    "for index, (a, b) in enumerate(zip(seq1, seq2)):\n",
    "    print(f\"{index}: {a}, {b}\")\n",
    "    \n",
    "###\n",
    "### REVERSED ~~~~~~~~~~~~~~~~~~~~~~~~~~~~~~~~~\n",
    "###\n",
    "\n",
    "### Just like zip, have to coerce to list to be able to actually see it.\n",
    "print(\"\\n\")\n",
    "print(reversed(range(10)))\n",
    "print(list(reversed(range(10))))"
   ]
  },
  {
   "cell_type": "markdown",
   "metadata": {},
   "source": [
    "<a name=\"comprehension\"></a>\n",
    "## List, Set, and Dictionary Comprehensions\n",
    "\n",
    "Python feature that allows you to *concisely* form a new list by filtering the elements of a collection.\n",
    "\n",
    "### List\n",
    "\n",
    "Basic form:\n",
    "\n",
    "`[expr for value in collection if condition]`\n",
    "\n",
    "Equivalent for loop:\n",
    "\n",
    "```python\n",
    "result = []\n",
    "for value in collection:\n",
    "    if condition:\n",
    "        result.append(expr)\n",
    "```\n",
    "\n",
    "Example: Given a list of strings, filter out strings with length 2 or less and convert those remaining to uppercase."
   ]
  },
  {
   "cell_type": "code",
   "execution_count": 218,
   "metadata": {},
   "outputs": [
    {
     "data": {
      "text/plain": [
       "['BAT', 'CAR', 'DOVE', 'PYTHON']"
      ]
     },
     "execution_count": 218,
     "metadata": {},
     "output_type": "execute_result"
    }
   ],
   "source": [
    "strings = [\"a\", \"as\", \"bat\", \"car\", \"dove\", \"python\"]\n",
    "[x.upper() for x in strings if len(x) > 2]"
   ]
  },
  {
   "cell_type": "markdown",
   "metadata": {},
   "source": [
    "### Dictionary\n",
    "\n",
    "```python\n",
    "dict_comp = {key-expr: value-expr for value in collection\n",
    "            if condition}\n",
    "```\n",
    "\n",
    "Example: lookup map of strings and their locations"
   ]
  },
  {
   "cell_type": "code",
   "execution_count": 219,
   "metadata": {},
   "outputs": [
    {
     "name": "stdout",
     "output_type": "stream",
     "text": [
      "{'a': 0, 'as': 1, 'bat': 2, 'car': 3, 'dove': 4, 'python': 5}\n"
     ]
    }
   ],
   "source": [
    "loc_mapping = {value: index for index, value in enumerate(strings)}\n",
    "print(loc_mapping)"
   ]
  },
  {
   "cell_type": "markdown",
   "metadata": {},
   "source": [
    "### Set\n",
    "\n",
    "`set_comp = {expr for value in collection if condition}`\n",
    "\n",
    "Get unique lengths from list of strings (all and with if statement):"
   ]
  },
  {
   "cell_type": "code",
   "execution_count": 220,
   "metadata": {},
   "outputs": [
    {
     "name": "stdout",
     "output_type": "stream",
     "text": [
      "{1, 2, 3, 4, 6}\n",
      "{3, 4, 6}\n"
     ]
    }
   ],
   "source": [
    "unique_lengths = {len(x) for x in strings}\n",
    "unique_lengths2 = {len(x) for x in strings if len(x) > 2}\n",
    "print(unique_lengths)\n",
    "print(unique_lengths2)"
   ]
  },
  {
   "cell_type": "markdown",
   "metadata": {},
   "source": [
    "### Nested List Comprehensions\n",
    "\n",
    "Can use similar list comprehension to go over nested lists. Similar format - you will have as many in-line for loops as you have nested lists. Each loop is in order of nesting.\n",
    "\n",
    "Below are two examples that simplify nested lists.\n",
    "\n",
    "1. Find all names in nested list that have two or more A's.\n",
    "2. Flatten a list of tuples into list of integers"
   ]
  },
  {
   "cell_type": "code",
   "execution_count": 221,
   "metadata": {},
   "outputs": [
    {
     "name": "stdout",
     "output_type": "stream",
     "text": [
      "['Maria', 'Natalia']\n",
      "['Maria', 'Natalia']\n",
      "['Maria', 'Natalia']\n"
     ]
    }
   ],
   "source": [
    "myNames = [[\"John\", \"Emily\", \"Michael\", \"Mary\", \"Steven\"],\n",
    "           [\"Maria\", \"Juan\", \"Javier\", \"Natalia\", \"Pilar\"]]\n",
    "\n",
    "### Regular for loop method\n",
    "foundNames = []\n",
    "for names in myNames:\n",
    "    for name in names:\n",
    "        if name.count(\"a\") >= 2:\n",
    "            foundNames.append(name)\n",
    "\n",
    "print(foundNames)\n",
    "\n",
    "### Using one list comprehension\n",
    "foundNames = []\n",
    "for names in myNames:\n",
    "    hasAs = [name for name in names if name.count(\"a\") >= 2] # Remember the format is [`expr` `for val in collection` `if`]\n",
    "                                                             # `expr` is name (so just print the name)\n",
    "                                                             # `for val` goes over each name in the names list\n",
    "                                                             # `if` checks if there are 2 or more a's\n",
    "    foundNames.extend(hasAs)                                 # extend the blank list.\n",
    "    \n",
    "print(foundNames)\n",
    "\n",
    "### Using nested list comprehension\n",
    "### Essentially the same as above (i.e. [`expr` `for` `if`]), we just have two for loops combined.\n",
    "foundNames = [name for names in myNames for name in names if name.count(\"a\") >= 2]\n",
    "print(foundNames)\n"
   ]
  },
  {
   "cell_type": "markdown",
   "metadata": {},
   "source": [
    "This one doesn't have an if statement:"
   ]
  },
  {
   "cell_type": "code",
   "execution_count": 222,
   "metadata": {},
   "outputs": [
    {
     "name": "stdout",
     "output_type": "stream",
     "text": [
      "[1, 2, 3, 4, 5, 6, 7, 8, 9]\n",
      "[1, 2, 3, 4, 5, 6, 7, 8, 9]\n",
      "[1, 2, 3, 4, 5, 6, 7, 8, 9]\n"
     ]
    }
   ],
   "source": [
    "myTuples = [(1, 2, 3), (4, 5, 6), (7, 8, 9)]\n",
    "\n",
    "### Regular\n",
    "flat = []\n",
    "for tup in myTuples:\n",
    "    for t in tup:\n",
    "        flat.append(t)\n",
    "print(flat)\n",
    "\n",
    "### One list comp\n",
    "flat = []\n",
    "for tup in myTuples:\n",
    "    flat.extend([t for t in tup])\n",
    "print(flat)\n",
    "\n",
    "### Two list comp\n",
    "flat = [t for tup in myTuples for t in tup]\n",
    "print(flat)"
   ]
  }
 ],
 "metadata": {
  "kernelspec": {
   "display_name": "pydata-book",
   "language": "python",
   "name": "python3"
  },
  "language_info": {
   "codemirror_mode": {
    "name": "ipython",
    "version": 3
   },
   "file_extension": ".py",
   "mimetype": "text/x-python",
   "name": "python",
   "nbconvert_exporter": "python",
   "pygments_lexer": "ipython3",
   "version": "3.10.14"
  }
 },
 "nbformat": 4,
 "nbformat_minor": 2
}
