{
 "cells": [
  {
   "cell_type": "markdown",
   "metadata": {},
   "source": [
    "# 4.5 File Input and Output with Arrays\n",
    "\n",
    "Not super important since we'll be using `pandas` mostly.\n",
    "\n",
    "numpy has a binary format that can be accessed with `numpy.save` and `numpy.load`\n",
    "\n",
    "You don't have to use a file extension with save - `.npy` will be appended automatically.\n",
    "\n",
    "Can also use `numpy.savez` to save multiple items to an uncompressed archive and `numpy.savez_compressed` to do the same, but compress them."
   ]
  },
  {
   "cell_type": "code",
   "execution_count": 7,
   "metadata": {},
   "outputs": [],
   "source": [
    "import numpy as np\n",
    "arr = np.arange(10)\n",
    "np.save(\"/Users/hortowe/my_tool_repos/pydata-book/examples/ex_array\", arr)\n"
   ]
  },
  {
   "cell_type": "code",
   "execution_count": 8,
   "metadata": {},
   "outputs": [
    {
     "data": {
      "text/plain": [
       "array([0, 1, 2, 3, 4, 5, 6, 7, 8, 9])"
      ]
     },
     "execution_count": 8,
     "metadata": {},
     "output_type": "execute_result"
    }
   ],
   "source": [
    "# Prints and doesn't assign\n",
    "np.load(\"/Users/hortowe/my_tool_repos/pydata-book/examples/ex_array.npy\")"
   ]
  },
  {
   "cell_type": "code",
   "execution_count": 9,
   "metadata": {},
   "outputs": [
    {
     "data": {
      "text/plain": [
       "array([0, 1, 2, 3, 4, 5, 6, 7, 8, 9])"
      ]
     },
     "execution_count": 9,
     "metadata": {},
     "output_type": "execute_result"
    }
   ],
   "source": [
    "# Assign\n",
    "foo = np.load(\"/Users/hortowe/my_tool_repos/pydata-book/examples/ex_array.npy\")\n",
    "foo"
   ]
  },
  {
   "cell_type": "code",
   "execution_count": 10,
   "metadata": {},
   "outputs": [
    {
     "data": {
      "text/plain": [
       "array([0, 1, 2, 3, 4, 5, 6, 7, 8, 9])"
      ]
     },
     "execution_count": 10,
     "metadata": {},
     "output_type": "execute_result"
    }
   ],
   "source": [
    "# Multiple arrays\n",
    "np.savez(\"/Users/hortowe/my_tool_repos/pydata-book/examples/array_archive.npz\", a=arr, b=arr)\n",
    "\n",
    "# Loaded as a dict-like object\n",
    "arch = np.load(\"/Users/hortowe/my_tool_repos/pydata-book/examples/array_archive.npz\")\n",
    "arch[\"b\"]"
   ]
  },
  {
   "cell_type": "code",
   "execution_count": 11,
   "metadata": {},
   "outputs": [],
   "source": [
    "# Save and compress\n",
    "np.savez_compressed(\"/Users/hortowe/my_tool_repos/pydata-book/examples/arrays_compressed.npz\", a=arr, b=arr)"
   ]
  }
 ],
 "metadata": {
  "kernelspec": {
   "display_name": "pydata-book",
   "language": "python",
   "name": "python3"
  },
  "language_info": {
   "codemirror_mode": {
    "name": "ipython",
    "version": 3
   },
   "file_extension": ".py",
   "mimetype": "text/x-python",
   "name": "python",
   "nbconvert_exporter": "python",
   "pygments_lexer": "ipython3",
   "version": "3.10.14"
  }
 },
 "nbformat": 4,
 "nbformat_minor": 2
}
