{
 "cells": [
  {
   "cell_type": "markdown",
   "metadata": {},
   "source": [
    "# 3.3 Files and the Operating System\n",
    "\n",
    "1. [General Info](#general)\n",
    "2. [Bytes and Unicode with Files](#bytes)\n",
    "\n",
    "<a name=\"general\"></a>\n",
    "# General Info\n",
    "\n",
    "`pandas.read_csv` and other such functions will replace this stuff in our usage, but good to be familiar with.  \n",
    "\n",
    "The built-in function `open` will open a file for reading or writing. Default is read-only. It will be read in essentially as a list with each line as an element in the list"
   ]
  },
  {
   "cell_type": "code",
   "execution_count": 5,
   "metadata": {},
   "outputs": [
    {
     "name": "stdout",
     "output_type": "stream",
     "text": [
      "Class is TextIOWrapper and printing it just gives details about the file, not the contents:\n",
      "<class '_io.TextIOWrapper'>\n",
      "<_io.TextIOWrapper name='../examples/segismundo.txt' mode='r' encoding='utf-8'>\n",
      "\n",
      "We can see that each line in the file is a string:\n",
      "Line: Sueña el rico en su riqueza,\n",
      "Class: <class 'str'>\n",
      "\n",
      "Line: que más cuidados le ofrece;\n",
      "Class: <class 'str'>\n",
      "\n",
      "Line: \n",
      "Class: <class 'str'>\n",
      "\n",
      "Line: sueña el pobre que padece\n",
      "Class: <class 'str'>\n",
      "\n",
      "Line: su miseria y su pobreza;\n",
      "Class: <class 'str'>\n",
      "\n",
      "Line: \n",
      "Class: <class 'str'>\n",
      "\n",
      "Line: sueña el que a medrar empieza,\n",
      "Class: <class 'str'>\n",
      "\n",
      "Line: sueña el que afana y pretende,\n",
      "Class: <class 'str'>\n",
      "\n",
      "Line: sueña el que agravia y ofende,\n",
      "Class: <class 'str'>\n",
      "\n",
      "Line: \n",
      "Class: <class 'str'>\n",
      "\n",
      "Line: y en el mundo, en conclusión,\n",
      "Class: <class 'str'>\n",
      "\n",
      "Line: todos sueñan lo que son,\n",
      "Class: <class 'str'>\n",
      "\n",
      "Line: aunque ninguno lo entiende.\n",
      "Class: <class 'str'>\n",
      "\n",
      "Line: \n",
      "Class: <class 'str'>\n",
      "\n"
     ]
    }
   ],
   "source": [
    "myPath = \"../examples/segismundo.txt\"\n",
    "myFile = open(myPath, encoding=\"utf-8\")\n",
    "\n",
    "print(\"Class is TextIOWrapper and printing it just gives details about the file, not the contents:\")\n",
    "print(type(myFile))\n",
    "print(myFile)\n",
    "print(\"\\nWe can see that each line in the file is a string:\")\n",
    "for line in myFile:\n",
    "    print(f\"Line: {line}Class: {type(line)}\\n\")"
   ]
  },
  {
   "cell_type": "markdown",
   "metadata": {},
   "source": [
    "Two things to notice:\n",
    "\n",
    "1. You can only iterate over a file once. You have to reload it if you want to use it again.\n",
    "2. By default, the end-of-line (EOL) markers are read in. See below.\n",
    "3. Use list comprehension to read in and do other stuff to file?"
   ]
  },
  {
   "cell_type": "code",
   "execution_count": 6,
   "metadata": {},
   "outputs": [
    {
     "name": "stdout",
     "output_type": "stream",
     "text": [
      "Last: \n",
      "Second to last: ,\n",
      "Last: \n",
      "Second to last: ;\n",
      "Last: \n",
      "Second to last: \n",
      "\n",
      "Last: \n",
      "Second to last: e\n",
      "Last: \n",
      "Second to last: ;\n",
      "Last: \n",
      "Second to last: \n",
      "\n",
      "Last: \n",
      "Second to last: ,\n",
      "Last: \n",
      "Second to last: ,\n",
      "Last: \n",
      "Second to last: ,\n",
      "Last: \n",
      "Second to last: \n",
      "\n",
      "Last: \n",
      "Second to last: ,\n",
      "Last: \n",
      "Second to last: ,\n",
      "Last: \n",
      "Second to last: .\n",
      "Last: \n",
      "Second to last: \n",
      "\n"
     ]
    }
   ],
   "source": [
    "myFile = open(myPath, encoding=\"utf-8\")\n",
    "for line in myFile:\n",
    "    #print(line)\n",
    "    print(f\"Last: {line[len(line)-1]}Second to last: {line[len(line)-2]}\")"
   ]
  },
  {
   "cell_type": "code",
   "execution_count": 7,
   "metadata": {},
   "outputs": [
    {
     "name": "stdout",
     "output_type": "stream",
     "text": [
      "<class 'list'>\n",
      "['Sueña el rico en su riqueza,', 'que más cuidados le ofrece;', '', 'sueña el pobre que padece', 'su miseria y su pobreza;', '', 'sueña el que a medrar empieza,', 'sueña el que afana y pretende,', 'sueña el que agravia y ofende,', '', 'y en el mundo, en conclusión,', 'todos sueñan lo que son,', 'aunque ninguno lo entiende.', '']\n"
     ]
    }
   ],
   "source": [
    "myLines = [x.rstrip() for x in open(myPath, encoding=\"utf-8\")]\n",
    "print(type(myLines))\n",
    "print(myLines)"
   ]
  },
  {
   "cell_type": "markdown",
   "metadata": {},
   "source": [
    "Make sure to `close` open files. You can use `with` to have this done by default:"
   ]
  },
  {
   "cell_type": "code",
   "execution_count": 8,
   "metadata": {},
   "outputs": [
    {
     "data": {
      "text/plain": [
       "['Sueña el rico en su riqueza,',\n",
       " 'que más cuidados le ofrece;',\n",
       " '',\n",
       " 'sueña el pobre que padece',\n",
       " 'su miseria y su pobreza;',\n",
       " '',\n",
       " 'sueña el que a medrar empieza,',\n",
       " 'sueña el que afana y pretende,',\n",
       " 'sueña el que agravia y ofende,',\n",
       " '',\n",
       " 'y en el mundo, en conclusión,',\n",
       " 'todos sueñan lo que son,',\n",
       " 'aunque ninguno lo entiende.',\n",
       " '']"
      ]
     },
     "execution_count": 8,
     "metadata": {},
     "output_type": "execute_result"
    }
   ],
   "source": [
    "myFile.close()\n",
    "with open(myPath, encoding='utf-8') as f:\n",
    "    lines = [x.rstrip() for x in f]\n",
    "lines"
   ]
  },
  {
   "cell_type": "markdown",
   "metadata": {},
   "source": [
    "Various file modes:  \n",
    "<img src=\"./myImages/table3.3_fileModes.png\" width = 600>\n",
    "\n",
    "## Common readable file methods\n",
    "\n",
    "1. `read` - return certain number of characters from the file and also advance the position in the file that far.  \n",
    "1. `tell` - return the current position\n",
    "1. `seek` - change the file position to the byte specified."
   ]
  },
  {
   "cell_type": "code",
   "execution_count": 10,
   "metadata": {},
   "outputs": [
    {
     "data": {
      "text/plain": [
       "'Sueña el r'"
      ]
     },
     "execution_count": 10,
     "metadata": {},
     "output_type": "execute_result"
    }
   ],
   "source": [
    "# Open file in text mode and read first 10 characters:\n",
    "f1 = open(myPath)\n",
    "f1.read(10)"
   ]
  },
  {
   "cell_type": "code",
   "execution_count": 11,
   "metadata": {},
   "outputs": [
    {
     "data": {
      "text/plain": [
       "b'Sue\\xc3\\xb1a el '"
      ]
     },
     "execution_count": 11,
     "metadata": {},
     "output_type": "execute_result"
    }
   ],
   "source": [
    "# Open file in binary bode and read first 10 bytes:\n",
    "f2 = open(myPath, mode=\"rb\")\n",
    "f2.read(10)"
   ]
  },
  {
   "cell_type": "code",
   "execution_count": 12,
   "metadata": {},
   "outputs": [
    {
     "name": "stdout",
     "output_type": "stream",
     "text": [
      "11\n",
      "10\n"
     ]
    }
   ],
   "source": [
    "# Tell the position\n",
    "print(f1.tell())\n",
    "print(f2.tell())"
   ]
  },
  {
   "cell_type": "code",
   "execution_count": 13,
   "metadata": {},
   "outputs": [
    {
     "data": {
      "text/plain": [
       "30"
      ]
     },
     "execution_count": 13,
     "metadata": {},
     "output_type": "execute_result"
    }
   ],
   "source": [
    "# Change the position\n",
    "f1.seek(30)"
   ]
  },
  {
   "cell_type": "code",
   "execution_count": 14,
   "metadata": {},
   "outputs": [
    {
     "data": {
      "text/plain": [
       "'q'"
      ]
     },
     "execution_count": 14,
     "metadata": {},
     "output_type": "execute_result"
    }
   ],
   "source": [
    "# Read in 1 character\n",
    "f1.read(1)"
   ]
  },
  {
   "cell_type": "code",
   "execution_count": 15,
   "metadata": {},
   "outputs": [
    {
     "data": {
      "text/plain": [
       "31"
      ]
     },
     "execution_count": 15,
     "metadata": {},
     "output_type": "execute_result"
    }
   ],
   "source": [
    "# Look at final position\n",
    "f1.tell()"
   ]
  },
  {
   "cell_type": "code",
   "execution_count": 16,
   "metadata": {},
   "outputs": [],
   "source": [
    "f1.close()\n",
    "f2.close()"
   ]
  },
  {
   "cell_type": "markdown",
   "metadata": {},
   "source": [
    "## Writing text\n",
    "\n",
    "Use `write` or `writeLines` to write out. Remember, if you use the `w` file mode, it will overwite the existing file (if present). Use `x` mode to fail instead of overwrite."
   ]
  },
  {
   "cell_type": "code",
   "execution_count": 17,
   "metadata": {},
   "outputs": [
    {
     "name": "stdout",
     "output_type": "stream",
     "text": [
      "['Sueña el rico en su riqueza,\\n', 'que más cuidados le ofrece;\\n', 'sueña el pobre que padece\\n', 'su miseria y su pobreza;\\n', 'sueña el que a medrar empieza,\\n', 'sueña el que afana y pretende,\\n', 'sueña el que agravia y ofende,\\n', 'y en el mundo, en conclusión,\\n', 'todos sueñan lo que son,\\n', 'aunque ninguno lo entiende.\\n']\n"
     ]
    }
   ],
   "source": [
    "# Write all non-empty lines to new file called tmp.txt\n",
    "with open(\"../examples/tmp.txt\", mode=\"w\") as handle:\n",
    "    handle.writelines(x for x in open(myPath) if len(x) > 1)\n",
    "    \n",
    "# Read that in\n",
    "with open(\"../examples/tmp.txt\") as newFile:\n",
    "    newLines = newFile.readlines()\n",
    "    \n",
    "print(newLines)"
   ]
  },
  {
   "cell_type": "markdown",
   "metadata": {},
   "source": [
    "Common python file meethods and attributes:  \n",
    "\n",
    "<img src=\"./myImages/table3.4_fileMethods.png\" width=600/>  \n",
    "\n",
    "<a name=\"bytes\"></a>\n",
    "# Bytes and Unicode with Files\n",
    "\n",
    "Default in python is to read/write files in text mode.  \n",
    "\n",
    "Append `b` to the standard file mode to read/write in binary."
   ]
  }
 ],
 "metadata": {
  "kernelspec": {
   "display_name": "pydata-book",
   "language": "python",
   "name": "python3"
  },
  "language_info": {
   "codemirror_mode": {
    "name": "ipython",
    "version": 3
   },
   "file_extension": ".py",
   "mimetype": "text/x-python",
   "name": "python",
   "nbconvert_exporter": "python",
   "pygments_lexer": "ipython3",
   "version": "3.10.14"
  }
 },
 "nbformat": 4,
 "nbformat_minor": 2
}
