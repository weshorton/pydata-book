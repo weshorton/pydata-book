{
 "cells": [
  {
   "cell_type": "markdown",
   "metadata": {},
   "source": [
    "# 2.3 Language Basics\n",
    "\n",
    "1. [Indentation](#indentation)\n",
    "2. [Object Orientation](#object)\n",
    "3. [Strong Typing](#strong)\n",
    "4. [Attributes and Methods](#attributes)\n",
    "5. [Duck Typing](#duck)\n",
    "6. [Imports](#imports)\n",
    "7. [Binary Operators](#binary)\n",
    "8. [Scalar Types](#scalar)\n",
    "9. [Control Flow](#control)\n",
    "\n",
    "<a name=\"indentation\"></a>\n",
    "## Indentation not braces\n",
    "\n",
    "Basically the same as bash. Don't use brackets for anything like in R.\n",
    "\n",
    "for x in array:\n",
    "    if x < pivot:\n",
    "        less.append(x)\n",
    "    else:\n",
    "        greater.append(x)\n",
    "\n",
    "<a name=\"object\"></a>\n",
    "## Object Orientation\n",
    "\n",
    "Everything is an object. Every number, string, data structure, function, class, module, etc.\n",
    "\n",
    "Not entirely sure the consequences of this and if it's very different from R. Keep in mind going forward.\n",
    "\n",
    "Almost every object in Python has attached functions. These are called methods and they have access to the object's internal contents. (Similar to R S4?)\n",
    "\n",
    "Example:\n",
    "\n",
    "obj.some_method(x, y, z)\n",
    "\n",
    "One difference relative to R is assigning objects to different variables. Consider the code below. We create a list of integers and assign it to a. Then we assign a to b. In R, we would now have two objects (a and b) that can be independently modified. In Python, however, these are just different pointers to the same object. So if we modify a, b will also be modified."
   ]
  },
  {
   "cell_type": "code",
   "execution_count": null,
   "metadata": {},
   "outputs": [
    {
     "data": {
      "text/plain": [
       "[1, 2, 3, 4]"
      ]
     },
     "execution_count": 1,
     "metadata": {},
     "output_type": "execute_result"
    }
   ],
   "source": [
    "a = [1, 2, 3]\n",
    "a\n",
    "b = a\n",
    "b\n",
    "a.append(4)\n",
    "b"
   ]
  },
  {
   "cell_type": "markdown",
   "metadata": {},
   "source": [
    " <a name=\"strong\"></a>\n",
    "## Strong Typing\n",
    "\n",
    "Similar to R, each object has it's own type and they can't be implicitly converted. Trying to add \"5\" to 5 will result in an error. Basically only time that implicit conversion is allowed is converting integers to floats."
   ]
  },
  {
   "cell_type": "code",
   "execution_count": null,
   "metadata": {},
   "outputs": [
    {
     "name": "stdout",
     "output_type": "stream",
     "text": [
      "a is <class 'float'>, b is <class 'int'>\n"
     ]
    },
    {
     "data": {
      "text/plain": [
       "2.25"
      ]
     },
     "execution_count": 2,
     "metadata": {},
     "output_type": "execute_result"
    }
   ],
   "source": [
    "a = 4.5\n",
    "b = 2\n",
    "print(f\"a is {type(a)}, b is {type(b)}\")\n",
    "a / b"
   ]
  },
  {
   "cell_type": "markdown",
   "metadata": {},
   "source": [
    "### Checking Types\n",
    "\n",
    "class(object) is how we do this in R. isinstance() is one way to do it in Python (not sure yet if there is a general one like R's class).\n",
    "\n",
    "isinstance() is more like is.character() or something in R. Below, we check if a is an integer. We can provide multiple options to check a"
   ]
  },
  {
   "cell_type": "code",
   "execution_count": null,
   "metadata": {},
   "outputs": [
    {
     "data": {
      "text/plain": [
       "True"
      ]
     },
     "execution_count": 3,
     "metadata": {},
     "output_type": "execute_result"
    }
   ],
   "source": [
    "a = 5; b = 4.5\n",
    "isinstance(a, int) # check if integer\n"
   ]
  },
  {
   "cell_type": "code",
   "execution_count": null,
   "metadata": {},
   "outputs": [
    {
     "data": {
      "text/plain": [
       "True"
      ]
     },
     "execution_count": 4,
     "metadata": {},
     "output_type": "execute_result"
    }
   ],
   "source": [
    "isinstance(a, (int, float)) # check if integer or float"
   ]
  },
  {
   "cell_type": "code",
   "execution_count": null,
   "metadata": {},
   "outputs": [
    {
     "data": {
      "text/plain": [
       "False"
      ]
     },
     "execution_count": 5,
     "metadata": {},
     "output_type": "execute_result"
    }
   ],
   "source": [
    "isinstance(b, int) # check if integer"
   ]
  },
  {
   "cell_type": "code",
   "execution_count": null,
   "metadata": {},
   "outputs": [
    {
     "data": {
      "text/plain": [
       "True"
      ]
     },
     "execution_count": 6,
     "metadata": {},
     "output_type": "execute_result"
    }
   ],
   "source": [
    "isinstance(b, (int, float)) # check if integer or float"
   ]
  },
  {
   "cell_type": "markdown",
   "metadata": {},
   "source": [
    "<a name=\"attributes\"></a>\n",
    "## Attributes and Methods\n",
    "\n",
    "Attributes - python objects stored \"inside\" an object\n",
    "\n",
    "Methods - functions associated with an object that can have access to the object's internal data.\n",
    "\n",
    "Syntax: <obj.attribute_name> / <obj.method_name>\n",
    "\n",
    "Can also view via getattr (Need to look into this further if I want to use it)"
   ]
  },
  {
   "cell_type": "code",
   "execution_count": null,
   "metadata": {},
   "outputs": [
    {
     "name": "stdout",
     "output_type": "stream",
     "text": [
      "\u001b[0;31mDocstring:\u001b[0m\n",
      "getattr(object, name[, default]) -> value\n",
      "\n",
      "Get a named attribute from an object; getattr(x, 'y') is equivalent to x.y.\n",
      "When a default argument is given, it is returned when the attribute doesn't\n",
      "exist; without it, an exception is raised in that case.\n",
      "\u001b[0;31mType:\u001b[0m      builtin_function_or_method"
     ]
    }
   ],
   "source": [
    "?getattr"
   ]
  },
  {
   "cell_type": "code",
   "execution_count": null,
   "metadata": {},
   "outputs": [
    {
     "data": {
      "text/plain": [
       "<function str.split(sep=None, maxsplit=-1)>"
      ]
     },
     "execution_count": 8,
     "metadata": {},
     "output_type": "execute_result"
    }
   ],
   "source": [
    "a = \"foo\"\n",
    "getattr(a, \"split\")"
   ]
  },
  {
   "cell_type": "markdown",
   "metadata": {},
   "source": [
    "<a name=\"duck\"></a>\n",
    "## Duck typing\n",
    "Sometimes it doesn't matter what the actual type is, just what it can do. For example, checking if something is iterable.  \n",
    "\n",
    "Things are iterable if they have `__iter__` method. This can be found doing tab-completion. For example, type `a.<tab>` to list all the methods and you will see `__iter__` as one of the results.\n",
    "\n",
    "Here is a function from the book that determines if an object is iterable"
   ]
  },
  {
   "cell_type": "code",
   "execution_count": null,
   "metadata": {},
   "outputs": [
    {
     "name": "stdout",
     "output_type": "stream",
     "text": [
      "\u001b[0;31mSignature:\u001b[0m \u001b[0misiterable\u001b[0m\u001b[0;34m(\u001b[0m\u001b[0mobj\u001b[0m\u001b[0;34m)\u001b[0m\u001b[0;34m\u001b[0m\u001b[0;34m\u001b[0m\u001b[0m\n",
      "\u001b[0;31mDocstring:\u001b[0m\n",
      "Check if object is iterable\n",
      "\n",
      "Returns\n",
      "-------\n",
      "True if iterable, False if not.\n",
      "\u001b[0;31mFile:\u001b[0m      /var/folders/yg/vgv20k0j7gvg8wyndq5wp9lsszdzc8/T/ipykernel_21691/2390336540.py\n",
      "\u001b[0;31mType:\u001b[0m      function"
     ]
    }
   ],
   "source": [
    "def isiterable(obj):\n",
    "    \"\"\"\n",
    "    Check if object is iterable\n",
    "\n",
    "    Returns\n",
    "    -------\n",
    "    True if iterable, False if not.\n",
    "    \"\"\"\n",
    "    try:\n",
    "        iter(obj)\n",
    "        return True\n",
    "    except TypeError: # Will have to look into except and all this stuff down the line.\n",
    "        return False\n",
    "    \n",
    "?isiterable"
   ]
  },
  {
   "cell_type": "code",
   "execution_count": null,
   "metadata": {},
   "outputs": [
    {
     "data": {
      "text/plain": [
       "True"
      ]
     },
     "execution_count": 13,
     "metadata": {},
     "output_type": "execute_result"
    }
   ],
   "source": [
    "isiterable(\"a string\")"
   ]
  },
  {
   "cell_type": "code",
   "execution_count": null,
   "metadata": {},
   "outputs": [
    {
     "data": {
      "text/plain": [
       "True"
      ]
     },
     "execution_count": 14,
     "metadata": {},
     "output_type": "execute_result"
    }
   ],
   "source": [
    "isiterable([1, 2, 3])"
   ]
  },
  {
   "cell_type": "code",
   "execution_count": null,
   "metadata": {},
   "outputs": [
    {
     "data": {
      "text/plain": [
       "False"
      ]
     },
     "execution_count": 15,
     "metadata": {},
     "output_type": "execute_result"
    }
   ],
   "source": [
    "isiterable(5)"
   ]
  },
  {
   "cell_type": "markdown",
   "metadata": {},
   "source": [
    "<a name=\"imports\"></a>\n",
    "## Imports!\n",
    "\n",
    "This is one of the things I feel like I was having trouble understanding, but doesn't seem too complicated.  \n",
    "\n",
    "The gist is that as long as they are in the same directory, a python script can access code from another python script using import.  \n",
    "For example, I can create a python script called myModule.py and I can put whatever I want in it - variable assignments, custom functions, etc.  \n",
    "Then, I can import that in a different script and use all of those functions/values.  \n",
    "\n",
    "Still not sure how this relates to the \"if name = main\" thing, but I think that will come.  \n",
    "\n",
    "The code described below can be found in this repository in the folder myExamples.\n",
    "\n",
    "Example myModule.py:\n",
    "\n",
    "```\n",
    "PI = 3.14159\n",
    "\n",
    "def f(x):\n",
    "    return x + 2\n",
    "\n",
    "def g(a, b):\n",
    "    return a + b\n",
    "```\n",
    "\n",
    "Example import script: myScript.py:\n",
    "\n",
    "```\n",
    "import myModule\n",
    "result = myModule.f(5)\n",
    "```\n",
    "\n",
    "The value of result will be 7. Note the syntax here - <obj.method> in this case, the object is the module and the method is the function that I wrote.\n",
    "\n",
    "Alternatively, can import only aspects of a module. Below, I will just import the function g and the value PI:\n",
    "\n",
    "```\n",
    "from myModule import g, PI\n",
    "result = g(5, PI)\n",
    "```\n",
    "\n",
    "The value of result will be 8.14159.\n",
    "\n",
    "Another import convention is using `as` to rename things. You can rename the module itself to something shorter (myModule to mm or something) and you can also rename functions from the module to something elsel\n",
    "\n",
    "```\n",
    "import myModule as mm\n",
    "from myModule import PI as pi, g as gf\n",
    "\n",
    "r1 = mm.f(pi)\n",
    "r2 = gf(6, pi)\n",
    "r3 = mm.g(6, pi)\n",
    "```\n",
    "\n",
    "r1 will be 5.14159; r2 will be 9.14159; and r3 will be 9.14159 as well."
   ]
  },
  {
   "cell_type": "markdown",
   "metadata": {},
   "source": [
    "<a name=\"binary\"></a>\n",
    "# Binary Operators\n",
    "\n",
    "Pretty standard.  \n",
    "There are a few I'm not used to from R, however.\n",
    "\n",
    "<img src=\"./myImages/table2.1_operators.png\" width = 600>  \n",
    "\n",
    "Note the difference between `is`/`is not` and `==`/`!=`:\n",
    "\n",
    "The two `is` operators are used to determine if two variables reference (i.e. point to) the same object, while the `==` operators determine if the **value** of two variables is the same.  \n",
    "\n",
    "Below, we make a list a, then assign it to the pointer b, then we **copy** it (because the list() fxn creates a copy).  \n",
    "\n",
    "`is` and `is not` are commonly used to check if a variable is `None`"
   ]
  },
  {
   "cell_type": "code",
   "execution_count": null,
   "metadata": {},
   "outputs": [],
   "source": [
    "a = [1, 2, 3]\n",
    "b = a\n",
    "c = list(a)"
   ]
  },
  {
   "cell_type": "code",
   "execution_count": null,
   "metadata": {},
   "outputs": [
    {
     "data": {
      "text/plain": [
       "True"
      ]
     },
     "execution_count": 17,
     "metadata": {},
     "output_type": "execute_result"
    }
   ],
   "source": [
    "a is b"
   ]
  },
  {
   "cell_type": "code",
   "execution_count": null,
   "metadata": {},
   "outputs": [
    {
     "data": {
      "text/plain": [
       "True"
      ]
     },
     "execution_count": 18,
     "metadata": {},
     "output_type": "execute_result"
    }
   ],
   "source": [
    "a is not c"
   ]
  },
  {
   "cell_type": "code",
   "execution_count": null,
   "metadata": {},
   "outputs": [
    {
     "data": {
      "text/plain": [
       "True"
      ]
     },
     "execution_count": 19,
     "metadata": {},
     "output_type": "execute_result"
    }
   ],
   "source": [
    "a == c"
   ]
  },
  {
   "cell_type": "markdown",
   "metadata": {},
   "source": [
    "## Mutable and Immutable Objects\n",
    "\n",
    "Recommended to favor immutability...\n",
    "\n",
    "### Mutable\n",
    "\n",
    "lists  \n",
    "dictionaries  \n",
    "NumPy arrays  \n",
    "most user-defined types (e.g. annData)  \n",
    "\n",
    "### Immutable\n",
    "\n",
    "strings\n",
    "tuples"
   ]
  },
  {
   "cell_type": "markdown",
   "metadata": {},
   "source": [
    "<a name=\"scalar\"></a>\n",
    "# Scalar Types\n",
    "\n",
    "Handle numeric data, strings, boolean values, and dates/times.  \n",
    "\n",
    "These are \"scalar\" because they're *single value* in the sense that there's only one instance. There's only one number, on True/False, one string, etc.  \n",
    "\n",
    "Compare that to a list, which is made up of multiple scalar values.  \n",
    "\n",
    "<img src=\"./myImages/table2.2_scalars.png\" width = 600>"
   ]
  },
  {
   "cell_type": "markdown",
   "metadata": {},
   "source": [
    "## Strings\n",
    "\n",
    "Strings and tuples are immutable objects. Can't actually change their values, have to assign them to new objects.  "
   ]
  },
  {
   "cell_type": "code",
   "execution_count": null,
   "metadata": {},
   "outputs": [
    {
     "name": "stdout",
     "output_type": "stream",
     "text": [
      "this is a string\n",
      "this is a longer string\n",
      "thi\n",
      "['t', 'h', 'i', 's', ' ', 'i', 's', ' ', 'a', ' ', 's', 't', 'r', 'i', 'n', 'g']\n",
      "['t', 'h', 'a', 't', ' ', 'i', 's', ' ', 'a', ' ', 's', 't', 'r', 'i', 'n', 'g']\n",
      "['t', 'h', 'i', 's', 't', ' ', 'i', 's', ' ', 'a', ' ', 's', 't', 'r', 'i', 'n', 'g']\n",
      "this\\is\\a\\string\\with\\no\\special\\characters\n"
     ]
    },
    {
     "data": {
      "text/plain": [
       "'this\\\\is\\\\a\\\\string\\\\with\\\\no\\\\special\\\\characters'"
      ]
     },
     "execution_count": 23,
     "metadata": {},
     "output_type": "execute_result"
    }
   ],
   "source": [
    "a = \"this is a string\"\n",
    "b = a.replace(\"string\", \"longer string\")\n",
    "print(a)\n",
    "print(b)\n",
    "\n",
    "# Slicing - note that this grabs the first 3 characters, starting at the 0th index.\n",
    "print(a[:3])\n",
    "\n",
    "# Split a string into a list\n",
    "c = list(a)\n",
    "print(c)\n",
    "c[2] = \"a\"\n",
    "c[3] = \"t\"\n",
    "print(c)\n",
    "\n",
    "# Avoid annoying escape characters  by preceding a string with r:\n",
    "s = r\"this\\is\\a\\string\\with\\no\\special\\characters\"\n",
    "print(s)\n",
    "s"
   ]
  },
  {
   "cell_type": "markdown",
   "metadata": {},
   "source": [
    "## String templating\n",
    "\n",
    "String objects have a `format` method that can be used to create templates of strings (Think this is kind of like sprintf in R)\n",
    "\n",
    "General format is to define each argument within brackets, specifying its index and type (i.e {#:type})\n",
    "\n",
    "In the code below:\n",
    "\n",
    "- `{0:.2f}`: 0 means it's the first argument. .2f means it's a float with 2 decimals\n",
    "- `{1:s}`: 1 means it's the second argument. s means it's a string\n",
    "- `{2:d}`: means it's the third argument and it's an integer.\n",
    "\n",
    "So you assign that to an object and then call the `format` method. Integers can be forced to be floats (i.e. if I provide 80 to the first argument, it will return 80.00). Can't force integers/floats to strings though."
   ]
  },
  {
   "cell_type": "code",
   "execution_count": null,
   "metadata": {},
   "outputs": [
    {
     "data": {
      "text/plain": [
       "'88.46 Argentine Pesos are worth US$1'"
      ]
     },
     "execution_count": 21,
     "metadata": {},
     "output_type": "execute_result"
    }
   ],
   "source": [
    "myTemplate = \"{0:.2f} {1:s} are worth US${2:d}\"\n",
    "myTemplate.format(88.46, \"Argentine Pesos\", 1)"
   ]
  },
  {
   "cell_type": "code",
   "execution_count": null,
   "metadata": {},
   "outputs": [
    {
     "data": {
      "text/plain": [
       "'88.00 75 are worth US$1'"
      ]
     },
     "execution_count": 23,
     "metadata": {},
     "output_type": "execute_result"
    }
   ],
   "source": [
    "myTemplate.format(88, \"Argentine Pesos\", 1)\n",
    "# myTemplate.format(88, 75, 1) # this will throw an error because 75 is an int, but my template requires it to be a string"
   ]
  },
  {
   "cell_type": "markdown",
   "metadata": {},
   "source": [
    "## Formatted string literals (f strings)\n",
    "\n",
    "This  is a different way to format string templates and seems to be more similar to sprintf in some respects.  \n",
    "Basically you start your string with f (e.g. f\"<string text here>\"). And then within the string you can place any sort of python expression you want and it will be evaluated.  \n",
    "These expressions are usually variables (b/c otherwise you could just write a normal string).  \n",
    "In the example below, the first two expressions are just literally calling those variables, while the third one is also performing an operation (division) on the variables that are called.  \n",
    "You can also use the same colon followed by formatting info to specify the output. Below, we use `:.2f` to round the output to two decimal points"
   ]
  },
  {
   "cell_type": "code",
   "execution_count": null,
   "metadata": {},
   "outputs": [
    {
     "name": "stdout",
     "output_type": "stream",
     "text": [
      "10 Pesos is worth US$0.11304544426859599\n",
      "10 Pesos is worth US$0.11\n"
     ]
    }
   ],
   "source": [
    "amount = 10\n",
    "rate = 88.46\n",
    "currency = \"Pesos\"\n",
    "r1 = f\"{amount} {currency} is worth US${amount / rate}\"\n",
    "print(r1)\n",
    "r2 = f\"{amount} {currency} is worth US${amount / rate:.2f}\"\n",
    "print(r2)"
   ]
  },
  {
   "cell_type": "markdown",
   "metadata": {},
   "source": [
    "## Booleans\n",
    "\n",
    "The boolean values are `True` and `False`, `True == 1` and `False == 0`.  \n",
    "\n",
    "Combine them with `and` and `or` in your conditional statements.  \n",
    "\n",
    "Reverse them with `not` (same as `!` in R).  "
   ]
  },
  {
   "cell_type": "markdown",
   "metadata": {},
   "source": [
    "## Type Casting\n",
    "\n",
    "The scalar types `str`, `bool`, `int`, and `float` are also functions that can be used to cast values to those types"
   ]
  },
  {
   "cell_type": "code",
   "execution_count": null,
   "metadata": {},
   "outputs": [],
   "source": [
    "s = \"3.14159\"\n",
    "fval = float(s)\n",
    "ival = int(fval)\n",
    "bval = bool(fval)\n",
    "\n",
    "print(type(s))\n",
    "print(s)\n",
    "print(type(fval))\n",
    "print(fval)\n",
    "print(type(ival))\n",
    "print(ival)\n",
    "print(type(bval))\n",
    "print(bval)"
   ]
  },
  {
   "cell_type": "markdown",
   "metadata": {},
   "source": [
    "## None\n",
    "\n",
    "`None` is the default NULL type!  \n",
    "\n",
    "Common `None` usage is to use it as a default function argument:\n",
    "\n",
    "```python\n",
    "def add_and_maybe_multiply(a, b, c=None):\n",
    "    result = a + b\n",
    "\n",
    "    if c is not None:\n",
    "        result = result * c\n",
    "\n",
    "    return result\n",
    "```"
   ]
  },
  {
   "cell_type": "markdown",
   "metadata": {},
   "source": [
    "## Dates and Times\n",
    "\n",
    "Must import the datetime moduel in order to have access to these.  \n",
    "\n",
    "`datetime` is essentially `date` with option to add time. It's the most commonly used."
   ]
  },
  {
   "cell_type": "code",
   "execution_count": null,
   "metadata": {},
   "outputs": [
    {
     "name": "stdout",
     "output_type": "stream",
     "text": [
      "\u001b[0;31mInit signature:\u001b[0m \u001b[0mdatetime\u001b[0m\u001b[0;34m(\u001b[0m\u001b[0mself\u001b[0m\u001b[0;34m,\u001b[0m \u001b[0;34m/\u001b[0m\u001b[0;34m,\u001b[0m \u001b[0;34m*\u001b[0m\u001b[0margs\u001b[0m\u001b[0;34m,\u001b[0m \u001b[0;34m**\u001b[0m\u001b[0mkwargs\u001b[0m\u001b[0;34m)\u001b[0m\u001b[0;34m\u001b[0m\u001b[0;34m\u001b[0m\u001b[0m\n",
      "\u001b[0;31mDocstring:\u001b[0m     \n",
      "datetime(year, month, day[, hour[, minute[, second[, microsecond[,tzinfo]]]]])\n",
      "\n",
      "The year, month and day arguments are required. tzinfo may be None, or an\n",
      "instance of a tzinfo subclass. The remaining arguments may be ints.\n",
      "\u001b[0;31mFile:\u001b[0m           ~/miniconda3/envs/pydata-book/lib/python3.10/datetime.py\n",
      "\u001b[0;31mType:\u001b[0m           type\n",
      "\u001b[0;31mSubclasses:\u001b[0m     "
     ]
    }
   ],
   "source": [
    "from datetime import datetime, date, time\n",
    "\n",
    "?datetime"
   ]
  },
  {
   "cell_type": "code",
   "execution_count": null,
   "metadata": {},
   "outputs": [
    {
     "name": "stdout",
     "output_type": "stream",
     "text": [
      "\u001b[0;31mInit signature:\u001b[0m \u001b[0mdate\u001b[0m\u001b[0;34m(\u001b[0m\u001b[0mself\u001b[0m\u001b[0;34m,\u001b[0m \u001b[0;34m/\u001b[0m\u001b[0;34m,\u001b[0m \u001b[0;34m*\u001b[0m\u001b[0margs\u001b[0m\u001b[0;34m,\u001b[0m \u001b[0;34m**\u001b[0m\u001b[0mkwargs\u001b[0m\u001b[0;34m)\u001b[0m\u001b[0;34m\u001b[0m\u001b[0;34m\u001b[0m\u001b[0m\n",
      "\u001b[0;31mDocstring:\u001b[0m      date(year, month, day) --> date object\n",
      "\u001b[0;31mFile:\u001b[0m           ~/miniconda3/envs/pydata-book/lib/python3.10/datetime.py\n",
      "\u001b[0;31mType:\u001b[0m           type\n",
      "\u001b[0;31mSubclasses:\u001b[0m     datetime"
     ]
    }
   ],
   "source": [
    "?date"
   ]
  },
  {
   "cell_type": "code",
   "execution_count": null,
   "metadata": {},
   "outputs": [
    {
     "name": "stdout",
     "output_type": "stream",
     "text": [
      "\u001b[0;31mInit signature:\u001b[0m \u001b[0mtime\u001b[0m\u001b[0;34m(\u001b[0m\u001b[0mself\u001b[0m\u001b[0;34m,\u001b[0m \u001b[0;34m/\u001b[0m\u001b[0;34m,\u001b[0m \u001b[0;34m*\u001b[0m\u001b[0margs\u001b[0m\u001b[0;34m,\u001b[0m \u001b[0;34m**\u001b[0m\u001b[0mkwargs\u001b[0m\u001b[0;34m)\u001b[0m\u001b[0;34m\u001b[0m\u001b[0;34m\u001b[0m\u001b[0m\n",
      "\u001b[0;31mDocstring:\u001b[0m     \n",
      "time([hour[, minute[, second[, microsecond[, tzinfo]]]]]) --> a time object\n",
      "\n",
      "All arguments are optional. tzinfo may be None, or an instance of\n",
      "a tzinfo subclass. The remaining arguments may be ints.\n",
      "\u001b[0;31mFile:\u001b[0m           ~/miniconda3/envs/pydata-book/lib/python3.10/datetime.py\n",
      "\u001b[0;31mType:\u001b[0m           type\n",
      "\u001b[0;31mSubclasses:\u001b[0m     "
     ]
    }
   ],
   "source": [
    "?time"
   ]
  },
  {
   "cell_type": "code",
   "execution_count": null,
   "metadata": {},
   "outputs": [
    {
     "name": "stdout",
     "output_type": "stream",
     "text": [
      "Day is: 29\n",
      "Second is: 21\n",
      "Print only the date using date() method: 2011-10-29\n",
      "Print only the time using date() method: 20:30:21\n"
     ]
    }
   ],
   "source": [
    "exDateTime = datetime(2011, 10, 29, 20, 30, 21)\n",
    "print(f\"Day is: {exDateTime.day}\")\n",
    "print(f\"Second is: {exDateTime.second}\")\n",
    "print(f\"Print only the date using date() method: {exDateTime.date()}\")\n",
    "print(f\"Print only the time using date() method: {exDateTime.time()}\")"
   ]
  },
  {
   "cell_type": "markdown",
   "metadata": {},
   "source": [
    "`strftime` is another common method used in datetime. This allows you to customize the date output as a string:"
   ]
  },
  {
   "cell_type": "code",
   "execution_count": null,
   "metadata": {},
   "outputs": [
    {
     "name": "stdout",
     "output_type": "stream",
     "text": [
      "2011\n",
      "2011-10-29\n",
      "2011 20:30\n"
     ]
    }
   ],
   "source": [
    "print(exDateTime.strftime(\"%Y\"))\n",
    "print(exDateTime.strftime(\"%Y-%m-%d\"))\n",
    "print(exDateTime.strftime(\"%Y %H:%M\"))"
   ]
  },
  {
   "cell_type": "markdown",
   "metadata": {},
   "source": [
    "The reverse can be done with `strptime` - turn a string into a datetime"
   ]
  },
  {
   "cell_type": "code",
   "execution_count": null,
   "metadata": {},
   "outputs": [
    {
     "name": "stdout",
     "output_type": "stream",
     "text": [
      "20091031\n",
      "<class 'str'>\n",
      "2009-10-31 00:00:00\n",
      "<class 'datetime.datetime'>\n"
     ]
    }
   ],
   "source": [
    "s=\"20091031\"\n",
    "print(s)\n",
    "print(type(s))\n",
    "print(datetime.strptime(s, \"%Y%m%d\"))\n",
    "print(type(datetime.strptime(s, \"%Y%m%d\")))"
   ]
  },
  {
   "cell_type": "markdown",
   "metadata": {},
   "source": [
    "Here are all of the different format options:\n",
    "\n",
    "<img src=\"./myImages/table11.2_datetimeFormats.png\" width = 600>"
   ]
  },
  {
   "cell_type": "markdown",
   "metadata": {},
   "source": [
    "<a name=\"control\"></a>\n",
    "# Control Flow\n",
    "\n",
    "## if, elif, and else\n",
    "\n",
    "Notice the difference from R's `else if`  \n",
    "\n",
    "Also note that no () are needed to surround the conditional statement being evaluated.  \n",
    "\n",
    "I believe this is the same as in R: if you have multiple conditionals combined with `or`, they're checked in order and the checking stops as soon as True is reached.\n",
    "\n",
    "### In R:\n",
    "```R\n",
    "x = -5\n",
    "if (x < 0) {\n",
    "    print(\"Negative\")\n",
    "} else if (x == 0) {\n",
    "    print(\"Zero\")\n",
    "} else if (x > 0 & x < 5) {\n",
    "    print(\"Positive and smaller than 5\")\n",
    "} else {\n",
    "    print(\"Positive and larger than or equal to 5\")\n",
    "}\n",
    "```\n",
    "\n",
    "### In Python:\n",
    "```python\n",
    "if x < 0:\n",
    "    print(\"Negative\")\n",
    "elif x == 0:\n",
    "    print(\"Zero\")\n",
    "elif 0 < x < 5:\n",
    "    print(\"Positive and smaller than 5\")\n",
    "else:\n",
    "    print(\"Positive and larger than or equal to 5\")\n",
    "```\n",
    "\n",
    "Test it:"
   ]
  },
  {
   "cell_type": "code",
   "execution_count": null,
   "metadata": {},
   "outputs": [
    {
     "name": "stdout",
     "output_type": "stream",
     "text": [
      "Positive and larger than or equal to 5\n"
     ]
    }
   ],
   "source": [
    "x = 10\n",
    "if x < 0:\n",
    "    print(\"Negative\")\n",
    "elif x == 0:\n",
    "    print(\"Zero\")\n",
    "elif 0 < x < 5:\n",
    "    print(\"Positive and smaller than 5\")\n",
    "else:\n",
    "    print(\"Positive and larger than or equal to 5\")"
   ]
  },
  {
   "cell_type": "markdown",
   "metadata": {},
   "source": [
    "## For loops\n",
    "\n",
    "Essentially the same as in R: `for value in collection:`\n",
    "\n",
    "I don't really use that in R, however, I use `for i in...`, which in python would look like: `for i in range(<value>)`\n",
    "\n",
    "`continue` in python is what `next` is in R  \n",
    "\n",
    "`break` is the same  \n",
    "\n",
    "Can do something extra with tuples and lists that we'll see more later: `for a, b, c in iterator:` will now have 3 variables (a, b, and c) inside the loop that are extracted from `iterator` (not sure how exactly though)\n",
    "\n",
    "## Pass\n",
    "\n",
    "`pass` is the \"no-op\" statement in python and is used as a placeholder.  \n",
    "\n",
    "It appears to have the same functionality as next, except maybe clearer to use next in for loops and pass in if statements?"
   ]
  },
  {
   "cell_type": "code",
   "execution_count": null,
   "metadata": {},
   "outputs": [],
   "source": [
    "x = 0\n",
    "if x < 0:\n",
    "    print(\"negative!\")\n",
    "elif x == 0:\n",
    "    # TODO: put something smart here\n",
    "    pass\n",
    "else:\n",
    "    print(\"positive!\")"
   ]
  },
  {
   "cell_type": "markdown",
   "metadata": {},
   "source": [
    "## Range\n",
    "\n",
    "start is inclusive, stop is exclusive! "
   ]
  },
  {
   "cell_type": "code",
   "execution_count": null,
   "metadata": {},
   "outputs": [
    {
     "name": "stdout",
     "output_type": "stream",
     "text": [
      "\u001b[0;31mInit signature:\u001b[0m \u001b[0mrange\u001b[0m\u001b[0;34m(\u001b[0m\u001b[0mself\u001b[0m\u001b[0;34m,\u001b[0m \u001b[0;34m/\u001b[0m\u001b[0;34m,\u001b[0m \u001b[0;34m*\u001b[0m\u001b[0margs\u001b[0m\u001b[0;34m,\u001b[0m \u001b[0;34m**\u001b[0m\u001b[0mkwargs\u001b[0m\u001b[0;34m)\u001b[0m\u001b[0;34m\u001b[0m\u001b[0;34m\u001b[0m\u001b[0m\n",
      "\u001b[0;31mDocstring:\u001b[0m     \n",
      "range(stop) -> range object\n",
      "range(start, stop[, step]) -> range object\n",
      "\n",
      "Return an object that produces a sequence of integers from start (inclusive)\n",
      "to stop (exclusive) by step.  range(i, j) produces i, i+1, i+2, ..., j-1.\n",
      "start defaults to 0, and stop is omitted!  range(4) produces 0, 1, 2, 3.\n",
      "These are exactly the valid indices for a list of 4 elements.\n",
      "When step is given, it specifies the increment (or decrement).\n",
      "\u001b[0;31mType:\u001b[0m           type\n",
      "\u001b[0;31mSubclasses:\u001b[0m     "
     ]
    }
   ],
   "source": [
    "?range"
   ]
  },
  {
   "cell_type": "code",
   "execution_count": null,
   "metadata": {},
   "outputs": [],
   "source": [
    "print(range(10))\n",
    "print(range(0,10))\n",
    "print(type(range(0,10)))\n",
    "print(list(range(10)))\n",
    "print(type(list(range(10))))\n",
    "print(list(range(0, 20, 2))) # count 0 to 20 by 2"
   ]
  },
  {
   "cell_type": "markdown",
   "metadata": {},
   "source": [
    "As mentioned above in the for loop section, `range()` is often used to iterate through a sequence by index:"
   ]
  },
  {
   "cell_type": "code",
   "execution_count": null,
   "metadata": {},
   "outputs": [],
   "source": [
    "# Make a list\n",
    "myList = [1, 2, 3, 4]\n",
    "\n",
    "# Iterate\n",
    "for i in range(len(myList)):\n",
    "    print(f\"element {i}: {myList[i]}\")"
   ]
  }
 ],
 "metadata": {
  "kernelspec": {
   "display_name": "pydata-book",
   "language": "python",
   "name": "python3"
  },
  "language_info": {
   "codemirror_mode": {
    "name": "ipython",
    "version": 3
   },
   "file_extension": ".py",
   "mimetype": "text/x-python",
   "name": "python",
   "nbconvert_exporter": "python",
   "pygments_lexer": "ipython3",
   "version": "3.10.14"
  }
 },
 "nbformat": 4,
 "nbformat_minor": 2
}
