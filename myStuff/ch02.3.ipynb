{
 "cells": [
  {
   "cell_type": "markdown",
   "metadata": {},
   "source": [
    "# 2.3 Language Basics\n",
    "\n",
    "## Indentation not braces\n",
    "\n",
    "Basically the same as bash. Don't use brackets for anything like in R.\n",
    "\n",
    "for x in array:\n",
    "    if x < pivot:\n",
    "        less.append(x)\n",
    "    else:\n",
    "        greater.append(x)\n",
    "\n",
    "\n",
    "## Object Orientation\n",
    "\n",
    "Everything is an object. Every number, string, data structure, function, class, module, etc.\n",
    "\n",
    "Not entirely sure the consequences of this and if it's very different from R. Keep in mind going forward.\n",
    "\n",
    "Almost every object in Python has attached functions. These are called methods and they have access to the object's internal contents. (Similar to R S4?)\n",
    "\n",
    "Example:\n",
    "\n",
    "obj.some_method(x, y, z)\n",
    "\n",
    "One difference relative to R is assigning objects to different variables. Consider the code below. We create a list of integers and assign it to a. Then we assign a to b. In R, we would now have two objects (a and b) that can be independently modified. In Python, however, these are just different pointers to the same object. So if we modify a, b will also be modified."
   ]
  },
  {
   "cell_type": "code",
   "execution_count": null,
   "metadata": {},
   "outputs": [],
   "source": [
    "a = [1, 2, 3]\n",
    "a\n",
    "b = a\n",
    "b\n",
    "a.append(4)\n",
    "b"
   ]
  },
  {
   "cell_type": "markdown",
   "metadata": {},
   "source": [
    "## Strong Typing\n",
    "\n",
    "Similar to R, each object has it's own type and they can't be implicitly converted. Trying to add \"5\" to 5 will result in an error. Basically only time that implicit conversion is allowed is converting integers to floats."
   ]
  },
  {
   "cell_type": "code",
   "execution_count": null,
   "metadata": {},
   "outputs": [],
   "source": [
    "a = 4.5\n",
    "b = 2\n",
    "print(f\"a is {type(a)}, b is {type(b)}\")\n",
    "a / b"
   ]
  },
  {
   "cell_type": "markdown",
   "metadata": {},
   "source": [
    "### Checking Types\n",
    "\n",
    "class(object) is how we do this in R. isinstance() is one way to do it in Python (not sure yet if there is a general one like R's class).\n",
    "\n",
    "isinstance() is more like is.character() or something in R. Below, we check if a is an integer. We can provide multiple options to check a"
   ]
  },
  {
   "cell_type": "code",
   "execution_count": null,
   "metadata": {},
   "outputs": [],
   "source": [
    "a = 5; b = 4.5\n",
    "isinstance(a, int) # check if integer\n"
   ]
  },
  {
   "cell_type": "code",
   "execution_count": null,
   "metadata": {},
   "outputs": [],
   "source": [
    "isinstance(a, (int, float)) # check if integer or float"
   ]
  },
  {
   "cell_type": "code",
   "execution_count": null,
   "metadata": {},
   "outputs": [],
   "source": [
    "isinstance(b, int) # check if integer"
   ]
  },
  {
   "cell_type": "code",
   "execution_count": null,
   "metadata": {},
   "outputs": [],
   "source": [
    "isinstance(b, (int, float)) # check if integer or float"
   ]
  },
  {
   "cell_type": "markdown",
   "metadata": {},
   "source": [
    "## Attributes and Methods\n",
    "\n",
    "Attributes - python objects stored \"inside\" an object\n",
    "\n",
    "Methods - functions associated with an object that can have access to the object's internal data.\n",
    "\n",
    "Syntax: <obj.attribute_name> / <obj.method_name>\n",
    "\n",
    "Can also view via getattr (Need to look into this further if I want to use it)"
   ]
  },
  {
   "cell_type": "code",
   "execution_count": null,
   "metadata": {},
   "outputs": [],
   "source": [
    "?getattr"
   ]
  },
  {
   "cell_type": "code",
   "execution_count": 14,
   "metadata": {},
   "outputs": [
    {
     "data": {
      "text/plain": [
       "<function str.split(sep=None, maxsplit=-1)>"
      ]
     },
     "execution_count": 14,
     "metadata": {},
     "output_type": "execute_result"
    }
   ],
   "source": [
    "a = \"foo\"\n",
    "getattr(a, \"split\")"
   ]
  },
  {
   "cell_type": "markdown",
   "metadata": {},
   "source": [
    "## Imports!\n",
    "\n",
    "This is one of the things I feel like I was having trouble understanding, but doesn't seem too complicated.  \n",
    "\n",
    "The gist is that as long as they are in the same directory, a python script can access code from another python script using import. \n",
    "For example, I can create a python script called myModule.py and I can put whatever I want in it - variable assignments, custom functions, etc.\n",
    "Then, I can import that in a different script and use all of those functions/values.\n",
    "\n",
    "Example myModule.py:\n",
    "\n",
    "```\n",
    "PI = 3.14159\n",
    "\n",
    "def f(x):\n",
    "    return x + 2\n",
    "\n",
    "def g(a, b):\n",
    "    return a + b\n",
    "```\n",
    "\n",
    "Example import script: myScript.py:\n",
    "\n",
    "```\n",
    "import myModule\n",
    "result = myModule.f(5)\n",
    "```\n",
    "\n",
    "The value of result will be 7. Note the syntax here - <obj.method> in this case, the object is the module and the method is the function that I wrote.\n",
    "\n",
    "Alternatively, can import only aspects of a module. Below, I will just import the function g and the value PI:\n",
    "\n",
    "```\n",
    "from myModule import g, PI\n",
    "result = g(5, PI)\n",
    "```\n",
    "\n",
    "The value of result will be 8.14159.\n",
    "\n",
    "Another import convention is using `as` to rename things. You can rename the module itself to something shorter (myModule to mm or something) and you can also rename functions from the module to something elsel\n",
    "\n",
    "```\n",
    "import myModule as mm\n",
    "from myModule import PI as pi, g as gf\n",
    "\n",
    "r1 = mm.f(pi)\n",
    "r2 = gf(6, pi)\n",
    "r3 = mm.g(6, pi)\n",
    "```\n",
    "\n",
    "r1 will be 5.14159; r2 will be 9.14159; and r3 will be 9.14159 as well."
   ]
  },
  {
   "cell_type": "code",
   "execution_count": 15,
   "metadata": {},
   "outputs": [
    {
     "data": {
      "text/plain": [
       "'this\\\\has\\\\no\\\\special\\\\characters'"
      ]
     },
     "execution_count": 15,
     "metadata": {},
     "output_type": "execute_result"
    }
   ],
   "source": [
    "s = r\"this\\has\\no\\special\\characters\"\n",
    "s"
   ]
  },
  {
   "cell_type": "markdown",
   "metadata": {},
   "source": [
    "## Strings\n",
    "\n",
    "Strings and tuples are immutable objects. Can't actually change their values, have to assign them to new objects.  "
   ]
  },
  {
   "cell_type": "code",
   "execution_count": null,
   "metadata": {},
   "outputs": [],
   "source": [
    "a = \"this is a string\"\n",
    "b = a.replace(\"string\", \"longer string\")\n",
    "print(a)\n",
    "print(b)\n",
    "\n",
    "# Slicing - note that this grabs the first 3 characters, starting at the 0th index.\n",
    "print(a[:3])\n",
    "\n",
    "# Avoid annoying escape characters  by preceding a string with r:\n",
    "s = r\"this\\is\\a\\string\\with\\no\\special\\characters\"\n",
    "print(s)\n",
    "s"
   ]
  },
  {
   "cell_type": "markdown",
   "metadata": {},
   "source": [
    "## String templating\n",
    "\n",
    "String objects have a `format` method that can be used to create templates of strings (Think this is kind of like sprintf in R)\n",
    "\n",
    "In the code below:\n",
    "\n",
    "- `{0:.2f}`: 0 means it's the first argument. .2f means it's a float with 2 decimals\n",
    "- `{1:s}`: 1 means it's the second argument. s means it's a string\n",
    "- `{2:d}`: means it's the third argument and it's an integer.\n",
    "\n",
    "So you assign that to an object and then call the format method. Integers can be forced to be floats (i.e. if I provide 80 to the first argument, it will return 80.00). Can't force integers/floats to strings though."
   ]
  },
  {
   "cell_type": "code",
   "execution_count": 21,
   "metadata": {},
   "outputs": [
    {
     "data": {
      "text/plain": [
       "'88.46 Argentine Pesos are worth US$1'"
      ]
     },
     "execution_count": 21,
     "metadata": {},
     "output_type": "execute_result"
    }
   ],
   "source": [
    "myTemplate = \"{0:.2f} {1:s} are worth US${2:d}\"\n",
    "myTemplate.format(88.46, \"Argentine Pesos\", 1)"
   ]
  },
  {
   "cell_type": "code",
   "execution_count": 23,
   "metadata": {},
   "outputs": [
    {
     "data": {
      "text/plain": [
       "'88.00 75 are worth US$1'"
      ]
     },
     "execution_count": 23,
     "metadata": {},
     "output_type": "execute_result"
    }
   ],
   "source": [
    "myTemplate.format(88, \"Argentine Pesos\", 1)\n",
    "# myTemplate.format(88, 75, 1) # this will throw an error because 75 is an int, but my template requires it to be a string"
   ]
  },
  {
   "cell_type": "markdown",
   "metadata": {},
   "source": [
    "## Formatted string literals (f strings)\n",
    "\n",
    "This  is a different way to format string templates and seems to be more similar to sprintf in some respects.  \n",
    "Basically you start your string with f (e.g. f\"<string text here>\"). And then within the string you can place any sort of python expression you want and it will be evaluated.  \n",
    "These expressions are usually variables (b/c otherwise you could just write a normal string).  \n",
    "In the example below, the first two expressions are just literally calling those variables, while the third one is also performing an operation (division) on the variables that are called.  \n",
    "You can also use the same colon followed by formatting info to specify the output. Below, we use `:.2f` to round the output to two decimal points"
   ]
  },
  {
   "cell_type": "code",
   "execution_count": 25,
   "metadata": {},
   "outputs": [
    {
     "name": "stdout",
     "output_type": "stream",
     "text": [
      "10 Pesos is worth US$0.11304544426859599\n",
      "10 Pesos is worth US$0.11\n"
     ]
    }
   ],
   "source": [
    "amount = 10\n",
    "rate = 88.46\n",
    "currency = \"Pesos\"\n",
    "r1 = f\"{amount} {currency} is worth US${amount / rate}\"\n",
    "print(r1)\n",
    "r2 = f\"{amount} {currency} is worth US${amount / rate:.2f}\"\n",
    "print(r2)"
   ]
  },
  {
   "cell_type": "markdown",
   "metadata": {},
   "source": [
    "## Range\n",
    "\n",
    "start is inclusive, stop is exclusive!"
   ]
  },
  {
   "cell_type": "code",
   "execution_count": 27,
   "metadata": {},
   "outputs": [
    {
     "name": "stdout",
     "output_type": "stream",
     "text": [
      "\u001b[0;31mInit signature:\u001b[0m \u001b[0mrange\u001b[0m\u001b[0;34m(\u001b[0m\u001b[0mself\u001b[0m\u001b[0;34m,\u001b[0m \u001b[0;34m/\u001b[0m\u001b[0;34m,\u001b[0m \u001b[0;34m*\u001b[0m\u001b[0margs\u001b[0m\u001b[0;34m,\u001b[0m \u001b[0;34m**\u001b[0m\u001b[0mkwargs\u001b[0m\u001b[0;34m)\u001b[0m\u001b[0;34m\u001b[0m\u001b[0;34m\u001b[0m\u001b[0m\n",
      "\u001b[0;31mDocstring:\u001b[0m     \n",
      "range(stop) -> range object\n",
      "range(start, stop[, step]) -> range object\n",
      "\n",
      "Return an object that produces a sequence of integers from start (inclusive)\n",
      "to stop (exclusive) by step.  range(i, j) produces i, i+1, i+2, ..., j-1.\n",
      "start defaults to 0, and stop is omitted!  range(4) produces 0, 1, 2, 3.\n",
      "These are exactly the valid indices for a list of 4 elements.\n",
      "When step is given, it specifies the increment (or decrement).\n",
      "\u001b[0;31mType:\u001b[0m           type\n",
      "\u001b[0;31mSubclasses:\u001b[0m     "
     ]
    }
   ],
   "source": [
    "?range"
   ]
  },
  {
   "cell_type": "code",
   "execution_count": 31,
   "metadata": {},
   "outputs": [
    {
     "name": "stdout",
     "output_type": "stream",
     "text": [
      "range(0, 10)\n",
      "range(0, 10)\n",
      "[0, 1, 2, 3, 4, 5, 6, 7, 8, 9]\n",
      "[0, 2, 4, 6, 8, 10, 12, 14, 16, 18]\n"
     ]
    }
   ],
   "source": [
    "print(range(10))\n",
    "print(range(0,10))\n",
    "print(list(range(10)))\n",
    "print(list(range(0, 20, 2))) # count 0 to 20 by 2"
   ]
  }
 ],
 "metadata": {
  "kernelspec": {
   "display_name": "pydata-book",
   "language": "python",
   "name": "python3"
  },
  "language_info": {
   "codemirror_mode": {
    "name": "ipython",
    "version": 3
   },
   "file_extension": ".py",
   "mimetype": "text/x-python",
   "name": "python",
   "nbconvert_exporter": "python",
   "pygments_lexer": "ipython3",
   "version": "3.10.14"
  }
 },
 "nbformat": 4,
 "nbformat_minor": 2
}
